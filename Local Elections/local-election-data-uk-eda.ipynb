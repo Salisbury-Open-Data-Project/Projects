{
 "cells": [
  {
   "cell_type": "code",
   "execution_count": 1,
   "metadata": {
    "_cell_guid": "b1076dfc-b9ad-4769-8c92-a6c4dae69d19",
    "_uuid": "8f2839f25d086af736a60e9eeb907d3b93b6e0e5",
    "execution": {
     "iopub.execute_input": "2020-10-16T15:12:47.091457Z",
     "iopub.status.busy": "2020-10-16T15:12:47.090608Z",
     "iopub.status.idle": "2020-10-16T15:12:47.116433Z",
     "shell.execute_reply": "2020-10-16T15:12:47.115279Z"
    },
    "papermill": {
     "duration": 0.045305,
     "end_time": "2020-10-16T15:12:47.116648",
     "exception": false,
     "start_time": "2020-10-16T15:12:47.071343",
     "status": "completed"
    },
    "tags": []
   },
   "outputs": [
    {
     "name": "stdout",
     "output_type": "stream",
     "text": [
      "/kaggle/input/local-election-data-for-the-uk-from-2006-2017/2009_results/2009_results.csv\n",
      "/kaggle/input/local-election-data-for-the-uk-from-2006-2017/2014_results/2014_results.csv\n",
      "/kaggle/input/local-election-data-for-the-uk-from-2006-2017/2006_results.csv/2006_results.csv\n",
      "/kaggle/input/local-election-data-for-the-uk-from-2006-2017/2016-results.csv/2016-results.csv\n",
      "/kaggle/input/local-election-data-for-the-uk-from-2006-2017/leap-2017-05-04/leap-2017-05-04.csv\n",
      "/kaggle/input/local-election-data-for-the-uk-from-2006-2017/2010_results/2010_results.csv\n",
      "/kaggle/input/local-election-data-for-the-uk-from-2006-2017/2013_results/2013_results.csv\n",
      "/kaggle/input/local-election-data-for-the-uk-from-2006-2017/2012_results/2012_results.csv\n",
      "/kaggle/input/local-election-data-for-the-uk-from-2006-2017/2008_results/2008_results.csv\n",
      "/kaggle/input/local-election-data-for-the-uk-from-2006-2017/2011_results/2011_results.csv\n",
      "/kaggle/input/local-election-data-for-the-uk-from-2006-2017/2007-results.csv/2007_results.csv\n",
      "/kaggle/input/local-election-data-for-the-uk-from-2006-2017/2015_results/2015_results.csv\n"
     ]
    }
   ],
   "source": [
    "# This Python 3 environment comes with many helpful analytics libraries installed\n",
    "# It is defined by the kaggle/python Docker image: https://github.com/kaggle/docker-python\n",
    "# For example, here's several helpful packages to load\n",
    "\n",
    "import numpy as np # linear algebra\n",
    "import pandas as pd # data processing, CSV file I/O (e.g. pd.read_csv)\n",
    "\n",
    "# Input data files are available in the read-only \"../input/\" directory\n",
    "# For example, running this (by clicking run or pressing Shift+Enter) will list all files under the input directory\n",
    "\n",
    "import os\n",
    "for dirname, _, filenames in os.walk('/kaggle/input'):\n",
    "    for filename in filenames:\n",
    "        print(os.path.join(dirname, filename))\n",
    "\n",
    "# You can write up to 5GB to the current directory (/kaggle/working/) that gets preserved as output when you create a version using \"Save & Run All\" \n",
    "# You can also write temporary files to /kaggle/temp/, but they won't be saved outside of the current session"
   ]
  },
  {
   "cell_type": "code",
   "execution_count": 2,
   "metadata": {
    "execution": {
     "iopub.execute_input": "2020-10-16T15:12:47.153497Z",
     "iopub.status.busy": "2020-10-16T15:12:47.152647Z",
     "iopub.status.idle": "2020-10-16T15:12:47.633133Z",
     "shell.execute_reply": "2020-10-16T15:12:47.632433Z"
    },
    "papermill": {
     "duration": 0.504124,
     "end_time": "2020-10-16T15:12:47.633278",
     "exception": false,
     "start_time": "2020-10-16T15:12:47.129154",
     "status": "completed"
    },
    "tags": []
   },
   "outputs": [],
   "source": [
    "# Read CSV files into DataFrames\n",
    "\n",
    "df_06 = pd.read_csv('../input/local-election-data-for-the-uk-from-2006-2017/2006_results.csv/2006_results.csv', header=None)\n",
    "df_07 = pd.read_csv('../input/local-election-data-for-the-uk-from-2006-2017/2007-results.csv/2007_results.csv')\n",
    "df_08 = pd.read_csv('../input/local-election-data-for-the-uk-from-2006-2017/2008_results/2008_results.csv', delimiter=';', header=None)\n",
    "df_09 = pd.read_csv('../input/local-election-data-for-the-uk-from-2006-2017/2009_results/2009_results.csv', delimiter=';', header=None)\n",
    "df_10 = pd.read_csv('../input/local-election-data-for-the-uk-from-2006-2017/2010_results/2010_results.csv', header=None)\n",
    "df_11 = pd.read_csv('../input/local-election-data-for-the-uk-from-2006-2017/2011_results/2011_results.csv', header=None)\n",
    "df_12 = pd.read_csv('../input/local-election-data-for-the-uk-from-2006-2017/2012_results/2012_results.csv', header=None)\n",
    "df_13 = pd.read_csv('../input/local-election-data-for-the-uk-from-2006-2017/2013_results/2013_results.csv', header=None)\n",
    "df_14 = pd.read_csv('../input/local-election-data-for-the-uk-from-2006-2017/2014_results/2014_results.csv')\n",
    "df_15 = pd.read_csv('../input/local-election-data-for-the-uk-from-2006-2017/2015_results/2015_results.csv')\n",
    "df_16 = pd.read_csv('../input/local-election-data-for-the-uk-from-2006-2017/2016-results.csv/2016-results.csv', header=None)\n",
    "df_17 = pd.read_csv('../input/local-election-data-for-the-uk-from-2006-2017/leap-2017-05-04/leap-2017-05-04.csv', header=None)"
   ]
  },
  {
   "cell_type": "code",
   "execution_count": 3,
   "metadata": {
    "execution": {
     "iopub.execute_input": "2020-10-16T15:12:47.662136Z",
     "iopub.status.busy": "2020-10-16T15:12:47.661370Z",
     "iopub.status.idle": "2020-10-16T15:12:47.664946Z",
     "shell.execute_reply": "2020-10-16T15:12:47.664339Z"
    },
    "papermill": {
     "duration": 0.020497,
     "end_time": "2020-10-16T15:12:47.665079",
     "exception": false,
     "start_time": "2020-10-16T15:12:47.644582",
     "status": "completed"
    },
    "tags": []
   },
   "outputs": [],
   "source": [
    "list_of_dfs = [df_06, df_07, df_08, df_09, df_10, df_11, df_12, df_13, df_14, df_15, df_16, df_17]"
   ]
  },
  {
   "cell_type": "code",
   "execution_count": 4,
   "metadata": {
    "execution": {
     "iopub.execute_input": "2020-10-16T15:12:47.693750Z",
     "iopub.status.busy": "2020-10-16T15:12:47.692859Z",
     "iopub.status.idle": "2020-10-16T15:12:47.696506Z",
     "shell.execute_reply": "2020-10-16T15:12:47.695728Z"
    },
    "papermill": {
     "duration": 0.020118,
     "end_time": "2020-10-16T15:12:47.696650",
     "exception": false,
     "start_time": "2020-10-16T15:12:47.676532",
     "status": "completed"
    },
    "tags": []
   },
   "outputs": [],
   "source": [
    "years = list(range(2006, 2018))"
   ]
  },
  {
   "cell_type": "code",
   "execution_count": 5,
   "metadata": {
    "execution": {
     "iopub.execute_input": "2020-10-16T15:12:47.744189Z",
     "iopub.status.busy": "2020-10-16T15:12:47.743298Z",
     "iopub.status.idle": "2020-10-16T15:12:47.819370Z",
     "shell.execute_reply": "2020-10-16T15:12:47.820286Z"
    },
    "papermill": {
     "duration": 0.112052,
     "end_time": "2020-10-16T15:12:47.820513",
     "exception": false,
     "start_time": "2020-10-16T15:12:47.708461",
     "status": "completed"
    },
    "tags": []
   },
   "outputs": [
    {
     "name": "stdout",
     "output_type": "stream",
     "text": [
      "Dataframe for 2006 \n",
      "      Ward               Council         Candidate Party  Votes  Elected  Year\n",
      "0   Abbey  Barking and Dagenham  Jeanne Alexander   Lab   1376        1  2006\n",
      "1   Abbey  Barking and Dagenham     Mohammed Fani   Lab   1275        1  2006\n",
      "2   Abbey  Barking and Dagenham    Graham Bramley   Lab   1241        1  2006\n",
      "3   Abbey  Barking and Dagenham     Foyzur Rahman     C    765        0  2006\n",
      "4  Alibon  Barking and Dagenham     Robert Bailey   BNP   1329        1  2006 \n",
      " (15249, 7) \n",
      "\n",
      "Dataframe for 2007 \n",
      "             Ward Council       Candidate Party  Votes  Elected  Year\n",
      "0  Astley Bridge  Bolton    Stuart Lever     C   1989      1.0  2007\n",
      "1  Astley Bridge  Bolton       Joe Hayes   Lab    822      0.0  2007\n",
      "2  Astley Bridge  Bolton      Clive Atty    LD    639      0.0  2007\n",
      "3       Bradshaw  Bolton  Diana Brierley     C   2334      1.0  2007\n",
      "4       Bradshaw  Bolton      Jim Cottam   Lab    618      0.0  2007 \n",
      " (25407, 7) \n",
      "\n",
      "Dataframe for 2008 \n",
      "             Ward Council          Candidate Party  Votes  Elected  Year\n",
      "0  Astley Bridge  Bolton  Hilary Fairclough     C   2358        1  2008\n",
      "1  Astley Bridge  Bolton         Clive Atty    LD    733        0  2008\n",
      "2  Astley Bridge  Bolton     Muhammad Rafiq   Lab    572        0  2008\n",
      "3       Bradshaw  Bolton        Walter Hall     C   2535        1  2008\n",
      "4       Bradshaw  Bolton       James Cottam   Lab    620        0  2008 \n",
      " (13274, 7) \n",
      "\n",
      "Dataframe for 2009 \n",
      "         Ward  Council       Candidate Party  Votes  Elected  Year\n",
      "0  Brickhill  Bedford  Charles Royden    LD   1755        1  2009\n",
      "1  Brickhill  Bedford     Wendy Rider    LD   1576        1  2009\n",
      "2  Brickhill  Bedford      John Keech     C   1065        0  2009\n",
      "3  Brickhill  Bedford      Barry Monk     C    912        0  2009\n",
      "4  Brickhill  Bedford  Nigel Haughton  UKIP    393        0  2009 \n",
      " (8978, 7) \n",
      "\n",
      "Dataframe for 2010 \n",
      "    Ward     Council       Candidate Party  Votes  Elected  Year\n",
      "0  Adur  Buckingham      Emma Evans     C   1301        1  2010\n",
      "1  Adur  Buckingham     Robert King    LD    828        0  2010\n",
      "2  Adur  Buckingham      Mick Clark  UKIP    197        0  2010\n",
      "3  Adur   Churchill    Carol Albury     C    885        1  2010\n",
      "4  Adur   Churchill  Stephen Martin    LD    762        0  2010 \n",
      " (16015, 7) \n",
      "\n",
      "Dataframe for 2011 \n",
      "                       Ward        Council      Candidate Party  Votes  \\\n",
      "0                    Abbey  South Norfolk  Robert Savage     C    678   \n",
      "1                    Abbey  South Norfolk    Peter Smith    LD    328   \n",
      "2                Beck Vale  South Norfolk  Keith Tilcock     C    491   \n",
      "3                Beck Vale  South Norfolk  Kerri Worrall    LD    441   \n",
      "4  Bressingham and Burston  South Norfolk    Ashley Camm    LD    290   \n",
      "\n",
      "   Elected  Year  \n",
      "0        1  2011  \n",
      "1        0  2011  \n",
      "2        1  2011  \n",
      "3        0  2011  \n",
      "4        0  2011   \n",
      " (27143, 7) \n",
      "\n",
      "Dataframe for 2012 \n",
      "       Ward      Council       Candidate Party  Votes  Elected  Year\n",
      "0  Bargate  Southampton      Joseph Cox   Grn    140        0  2012\n",
      "1  Bargate  Southampton   Sharon Cutler  TUSC     82        0  2012\n",
      "2  Bargate  Southampton  Derrick Murray    LD    127        0  2012\n",
      "3  Bargate  Southampton    Matthew Rose   Ind     67        0  2012\n",
      "4  Bargate  Southampton  Matthew Tucker   Lab   1100        1  2012 \n",
      " (14615, 7) \n",
      "\n",
      "Dataframe for 2013 \n",
      "                          Ward        Council       Candidate Party  Votes  \\\n",
      "0            Cheshunt Central  Hertfordshire   Colleen Blyth  UKIP    662   \n",
      "1            Cheshunt Central  Hertfordshire     Dave Hewitt     C   1283   \n",
      "2            Cheshunt Central  Hertfordshire     Nick Sutton    LD    177   \n",
      "3            Cheshunt Central  Hertfordshire  Michael Watson   Lab    441   \n",
      "4  Flamstead End and Turnford  Hertfordshire   Tony Faulkner  UKIP    859   \n",
      "\n",
      "   Elected  Year  \n",
      "0        0  2013  \n",
      "1        1  2013  \n",
      "2        0  2013  \n",
      "3        0  2013  \n",
      "4        0  2013   \n",
      " (10124, 7) \n",
      "\n",
      "Dataframe for 2014 \n",
      "          Ward Council        Candidate Party  Votes  Elected  Year\n",
      "0  Buckingham    Adur       Emma Evans     C    678        1  2014\n",
      "1  Buckingham    Adur  Thomas Hilditch    LD     67        0  2014\n",
      "2  Buckingham    Adur       Mick Clark  UKIP    250        0  2014\n",
      "3  Buckingham    Adur    Nicola Carden   Lab    171        0  2014\n",
      "4  Buckingham    Adur   Jennie Tindall   Grn    101        0  2014 \n",
      " (17119, 7) \n",
      "\n",
      "Dataframe for 2015 \n",
      "         Ward     Council         Candidate Party  Votes  Elected  Year\n",
      "0  Allerdale  All Saints        Alan Smith   Lab   1147        1  2015\n",
      "1  Allerdale  All Saints        Len Davies   Lab   1066        1  2015\n",
      "2  Allerdale  All Saints   Christine Smith   Lab    891        1  2015\n",
      "3  Allerdale  All Saints       Leah Lister   Ind    648        0  2015\n",
      "4  Allerdale  All Saints  Michael Bradshaw   Ind    631        0  2015 \n",
      " (30586, 7) \n",
      "\n",
      "Dataframe for 2016 \n",
      "    Ward     Council               Candidate Party  Votes  Elected  Year\n",
      "0  Adur  Buckingham             Kevin Boram     C    520        1  2016\n",
      "1  Adur  Buckingham        Michael Thornton   Lab    195        0  2016\n",
      "2  Adur  Buckingham          Darren Compton  UKIP    133        0  2016\n",
      "3  Adur  Buckingham          Cyril Cannings    LD     69        0  2016\n",
      "4  Adur  Buckingham  Leslie Groves Williams   Grn     68        0  2016 \n",
      " (10805, 7) \n",
      "\n",
      "Dataframe for 2017 \n",
      "        Ward                      Council        Candidate Party   Votes  \\\n",
      "0  Aberdeen  Airyhall/Broomhill/Garthdee        Ian Yuill    LD  2458.0   \n",
      "1  Aberdeen  Airyhall/Broomhill/Garthdee  Douglas Lumsden     C  1533.0   \n",
      "2  Aberdeen  Airyhall/Broomhill/Garthdee   Gordon Townson   SNP  1417.0   \n",
      "3  Aberdeen  Airyhall/Broomhill/Garthdee    Angela Taylor   Lab   708.0   \n",
      "4  Aberdeen                Bridge of Don       Brett Hunt     C  1868.0   \n",
      "\n",
      "   Elected  Year  \n",
      "0      1.0  2017  \n",
      "1      1.0  2017  \n",
      "2      1.0  2017  \n",
      "3      0.0  2017  \n",
      "4      1.0  2017   \n",
      " (15747, 7) \n",
      "\n"
     ]
    }
   ],
   "source": [
    "for (i, j) in zip(list_of_dfs, years):\n",
    "    \n",
    "    # If contains ONS codes, drop those coumns\n",
    "    if i.shape[1] > 6:\n",
    "        i.drop(i.columns[[1, 3]], axis=1, inplace=True)\n",
    "    \n",
    "    # Rename columns\n",
    "    i.columns = [\"Ward\", \"Council\", \"Candidate\", \"Party\", \"Votes\", \"Elected\"]\n",
    "        \n",
    "    # Add a Year column\n",
    "    i[\"Year\"] = j\n",
    "    \n",
    "    # Show information\n",
    "    print (\"Dataframe for\", j, \"\\n\", i.head(), \"\\n\", i.shape, \"\\n\")"
   ]
  },
  {
   "cell_type": "code",
   "execution_count": 6,
   "metadata": {
    "execution": {
     "iopub.execute_input": "2020-10-16T15:12:47.852459Z",
     "iopub.status.busy": "2020-10-16T15:12:47.851700Z",
     "iopub.status.idle": "2020-10-16T15:12:47.904082Z",
     "shell.execute_reply": "2020-10-16T15:12:47.903429Z"
    },
    "papermill": {
     "duration": 0.070168,
     "end_time": "2020-10-16T15:12:47.904208",
     "exception": false,
     "start_time": "2020-10-16T15:12:47.834040",
     "status": "completed"
    },
    "tags": []
   },
   "outputs": [
    {
     "data": {
      "text/html": [
       "<div>\n",
       "<style scoped>\n",
       "    .dataframe tbody tr th:only-of-type {\n",
       "        vertical-align: middle;\n",
       "    }\n",
       "\n",
       "    .dataframe tbody tr th {\n",
       "        vertical-align: top;\n",
       "    }\n",
       "\n",
       "    .dataframe thead th {\n",
       "        text-align: right;\n",
       "    }\n",
       "</style>\n",
       "<table border=\"1\" class=\"dataframe\">\n",
       "  <thead>\n",
       "    <tr style=\"text-align: right;\">\n",
       "      <th></th>\n",
       "      <th>Ward</th>\n",
       "      <th>Council</th>\n",
       "      <th>Candidate</th>\n",
       "      <th>Party</th>\n",
       "      <th>Votes</th>\n",
       "      <th>Elected</th>\n",
       "      <th>Year</th>\n",
       "    </tr>\n",
       "  </thead>\n",
       "  <tbody>\n",
       "    <tr>\n",
       "      <th>0</th>\n",
       "      <td>Abbey</td>\n",
       "      <td>Barking and Dagenham</td>\n",
       "      <td>Jeanne Alexander</td>\n",
       "      <td>Lab</td>\n",
       "      <td>1376.0</td>\n",
       "      <td>1.0</td>\n",
       "      <td>2006</td>\n",
       "    </tr>\n",
       "    <tr>\n",
       "      <th>1</th>\n",
       "      <td>Abbey</td>\n",
       "      <td>Barking and Dagenham</td>\n",
       "      <td>Mohammed Fani</td>\n",
       "      <td>Lab</td>\n",
       "      <td>1275.0</td>\n",
       "      <td>1.0</td>\n",
       "      <td>2006</td>\n",
       "    </tr>\n",
       "    <tr>\n",
       "      <th>2</th>\n",
       "      <td>Abbey</td>\n",
       "      <td>Barking and Dagenham</td>\n",
       "      <td>Graham Bramley</td>\n",
       "      <td>Lab</td>\n",
       "      <td>1241.0</td>\n",
       "      <td>1.0</td>\n",
       "      <td>2006</td>\n",
       "    </tr>\n",
       "    <tr>\n",
       "      <th>3</th>\n",
       "      <td>Abbey</td>\n",
       "      <td>Barking and Dagenham</td>\n",
       "      <td>Foyzur Rahman</td>\n",
       "      <td>C</td>\n",
       "      <td>765.0</td>\n",
       "      <td>0.0</td>\n",
       "      <td>2006</td>\n",
       "    </tr>\n",
       "    <tr>\n",
       "      <th>4</th>\n",
       "      <td>Alibon</td>\n",
       "      <td>Barking and Dagenham</td>\n",
       "      <td>Robert Bailey</td>\n",
       "      <td>BNP</td>\n",
       "      <td>1329.0</td>\n",
       "      <td>1.0</td>\n",
       "      <td>2006</td>\n",
       "    </tr>\n",
       "  </tbody>\n",
       "</table>\n",
       "</div>"
      ],
      "text/plain": [
       "     Ward               Council         Candidate Party   Votes  Elected  Year\n",
       "0   Abbey  Barking and Dagenham  Jeanne Alexander   Lab  1376.0      1.0  2006\n",
       "1   Abbey  Barking and Dagenham     Mohammed Fani   Lab  1275.0      1.0  2006\n",
       "2   Abbey  Barking and Dagenham    Graham Bramley   Lab  1241.0      1.0  2006\n",
       "3   Abbey  Barking and Dagenham     Foyzur Rahman     C   765.0      0.0  2006\n",
       "4  Alibon  Barking and Dagenham     Robert Bailey   BNP  1329.0      1.0  2006"
      ]
     },
     "execution_count": 6,
     "metadata": {},
     "output_type": "execute_result"
    }
   ],
   "source": [
    "# Concatenate into one df\n",
    "\n",
    "df = pd.concat(list_of_dfs, axis=0, ignore_index=True)\n",
    "df.head()"
   ]
  },
  {
   "cell_type": "code",
   "execution_count": 7,
   "metadata": {
    "execution": {
     "iopub.execute_input": "2020-10-16T15:12:47.946396Z",
     "iopub.status.busy": "2020-10-16T15:12:47.945452Z",
     "iopub.status.idle": "2020-10-16T15:12:47.950729Z",
     "shell.execute_reply": "2020-10-16T15:12:47.950010Z"
    },
    "papermill": {
     "duration": 0.033492,
     "end_time": "2020-10-16T15:12:47.950865",
     "exception": false,
     "start_time": "2020-10-16T15:12:47.917373",
     "status": "completed"
    },
    "tags": []
   },
   "outputs": [
    {
     "data": {
      "text/html": [
       "<div>\n",
       "<style scoped>\n",
       "    .dataframe tbody tr th:only-of-type {\n",
       "        vertical-align: middle;\n",
       "    }\n",
       "\n",
       "    .dataframe tbody tr th {\n",
       "        vertical-align: top;\n",
       "    }\n",
       "\n",
       "    .dataframe thead th {\n",
       "        text-align: right;\n",
       "    }\n",
       "</style>\n",
       "<table border=\"1\" class=\"dataframe\">\n",
       "  <thead>\n",
       "    <tr style=\"text-align: right;\">\n",
       "      <th></th>\n",
       "      <th>Ward</th>\n",
       "      <th>Council</th>\n",
       "      <th>Candidate</th>\n",
       "      <th>Party</th>\n",
       "      <th>Votes</th>\n",
       "      <th>Elected</th>\n",
       "      <th>Year</th>\n",
       "    </tr>\n",
       "  </thead>\n",
       "  <tbody>\n",
       "    <tr>\n",
       "      <th>205057</th>\n",
       "      <td>Wyre Forest</td>\n",
       "      <td>Mitton</td>\n",
       "      <td>John Thomas</td>\n",
       "      <td>ICHC</td>\n",
       "      <td>506.0</td>\n",
       "      <td>0.0</td>\n",
       "      <td>2017</td>\n",
       "    </tr>\n",
       "    <tr>\n",
       "      <th>205058</th>\n",
       "      <td>Wyre Forest</td>\n",
       "      <td>Mitton</td>\n",
       "      <td>Cliff Brewer</td>\n",
       "      <td>Lab</td>\n",
       "      <td>429.0</td>\n",
       "      <td>0.0</td>\n",
       "      <td>2017</td>\n",
       "    </tr>\n",
       "    <tr>\n",
       "      <th>205059</th>\n",
       "      <td>Wyre Forest</td>\n",
       "      <td>Mitton</td>\n",
       "      <td>John Holden</td>\n",
       "      <td>UKIP</td>\n",
       "      <td>215.0</td>\n",
       "      <td>0.0</td>\n",
       "      <td>2017</td>\n",
       "    </tr>\n",
       "    <tr>\n",
       "      <th>205060</th>\n",
       "      <td>Wyre Forest</td>\n",
       "      <td>Mitton</td>\n",
       "      <td>Simon Ford</td>\n",
       "      <td>LD</td>\n",
       "      <td>79.0</td>\n",
       "      <td>0.0</td>\n",
       "      <td>2017</td>\n",
       "    </tr>\n",
       "    <tr>\n",
       "      <th>205061</th>\n",
       "      <td>Wyre Forest</td>\n",
       "      <td>Mitton</td>\n",
       "      <td>Vicky Lea</td>\n",
       "      <td>Grn</td>\n",
       "      <td>39.0</td>\n",
       "      <td>0.0</td>\n",
       "      <td>2017</td>\n",
       "    </tr>\n",
       "  </tbody>\n",
       "</table>\n",
       "</div>"
      ],
      "text/plain": [
       "               Ward Council     Candidate Party  Votes  Elected  Year\n",
       "205057  Wyre Forest  Mitton   John Thomas  ICHC  506.0      0.0  2017\n",
       "205058  Wyre Forest  Mitton  Cliff Brewer   Lab  429.0      0.0  2017\n",
       "205059  Wyre Forest  Mitton   John Holden  UKIP  215.0      0.0  2017\n",
       "205060  Wyre Forest  Mitton    Simon Ford    LD   79.0      0.0  2017\n",
       "205061  Wyre Forest  Mitton     Vicky Lea   Grn   39.0      0.0  2017"
      ]
     },
     "execution_count": 7,
     "metadata": {},
     "output_type": "execute_result"
    }
   ],
   "source": [
    "df.tail()"
   ]
  },
  {
   "cell_type": "code",
   "execution_count": 8,
   "metadata": {
    "execution": {
     "iopub.execute_input": "2020-10-16T15:12:47.985762Z",
     "iopub.status.busy": "2020-10-16T15:12:47.984972Z",
     "iopub.status.idle": "2020-10-16T15:12:49.821641Z",
     "shell.execute_reply": "2020-10-16T15:12:49.820877Z"
    },
    "papermill": {
     "duration": 1.85629,
     "end_time": "2020-10-16T15:12:49.821776",
     "exception": false,
     "start_time": "2020-10-16T15:12:47.965486",
     "status": "completed"
    },
    "tags": []
   },
   "outputs": [],
   "source": [
    "df.to_csv('nation_wide_data.csv', index=False)"
   ]
  },
  {
   "cell_type": "code",
   "execution_count": 9,
   "metadata": {
    "execution": {
     "iopub.execute_input": "2020-10-16T15:12:49.892052Z",
     "iopub.status.busy": "2020-10-16T15:12:49.890603Z",
     "iopub.status.idle": "2020-10-16T15:12:49.913740Z",
     "shell.execute_reply": "2020-10-16T15:12:49.914279Z"
    },
    "papermill": {
     "duration": 0.078451,
     "end_time": "2020-10-16T15:12:49.914457",
     "exception": false,
     "start_time": "2020-10-16T15:12:49.836006",
     "status": "completed"
    },
    "tags": []
   },
   "outputs": [
    {
     "data": {
      "text/html": [
       "<div>\n",
       "<style scoped>\n",
       "    .dataframe tbody tr th:only-of-type {\n",
       "        vertical-align: middle;\n",
       "    }\n",
       "\n",
       "    .dataframe tbody tr th {\n",
       "        vertical-align: top;\n",
       "    }\n",
       "\n",
       "    .dataframe thead th {\n",
       "        text-align: right;\n",
       "    }\n",
       "</style>\n",
       "<table border=\"1\" class=\"dataframe\">\n",
       "  <thead>\n",
       "    <tr style=\"text-align: right;\">\n",
       "      <th></th>\n",
       "      <th>Ward</th>\n",
       "      <th>Council</th>\n",
       "      <th>Candidate</th>\n",
       "      <th>Party</th>\n",
       "      <th>Votes</th>\n",
       "      <th>Elected</th>\n",
       "      <th>Year</th>\n",
       "    </tr>\n",
       "  </thead>\n",
       "  <tbody>\n",
       "    <tr>\n",
       "      <th>204290</th>\n",
       "      <td>Wiltshire</td>\n",
       "      <td>Aldbourne and Ramsbury</td>\n",
       "      <td>James Sheppard</td>\n",
       "      <td>C</td>\n",
       "      <td>1056.0</td>\n",
       "      <td>1.0</td>\n",
       "      <td>2017</td>\n",
       "    </tr>\n",
       "    <tr>\n",
       "      <th>204291</th>\n",
       "      <td>Wiltshire</td>\n",
       "      <td>Aldbourne and Ramsbury</td>\n",
       "      <td>Fran Bishop</td>\n",
       "      <td>LD</td>\n",
       "      <td>278.0</td>\n",
       "      <td>0.0</td>\n",
       "      <td>2017</td>\n",
       "    </tr>\n",
       "    <tr>\n",
       "      <th>204292</th>\n",
       "      <td>Wiltshire</td>\n",
       "      <td>Aldbourne and Ramsbury</td>\n",
       "      <td>Jason Haythornthwaite</td>\n",
       "      <td>Lab</td>\n",
       "      <td>147.0</td>\n",
       "      <td>0.0</td>\n",
       "      <td>2017</td>\n",
       "    </tr>\n",
       "    <tr>\n",
       "      <th>204293</th>\n",
       "      <td>Wiltshire</td>\n",
       "      <td>Aldbourne and Ramsbury</td>\n",
       "      <td>Brian Utton</td>\n",
       "      <td>Grn</td>\n",
       "      <td>86.0</td>\n",
       "      <td>0.0</td>\n",
       "      <td>2017</td>\n",
       "    </tr>\n",
       "    <tr>\n",
       "      <th>204294</th>\n",
       "      <td>Wiltshire</td>\n",
       "      <td>Alderbury and Whiteparish</td>\n",
       "      <td>Richard Britton</td>\n",
       "      <td>C</td>\n",
       "      <td>825.0</td>\n",
       "      <td>1.0</td>\n",
       "      <td>2017</td>\n",
       "    </tr>\n",
       "  </tbody>\n",
       "</table>\n",
       "</div>"
      ],
      "text/plain": [
       "             Ward                    Council              Candidate Party  \\\n",
       "204290  Wiltshire     Aldbourne and Ramsbury         James Sheppard     C   \n",
       "204291  Wiltshire     Aldbourne and Ramsbury            Fran Bishop    LD   \n",
       "204292  Wiltshire     Aldbourne and Ramsbury  Jason Haythornthwaite   Lab   \n",
       "204293  Wiltshire     Aldbourne and Ramsbury            Brian Utton   Grn   \n",
       "204294  Wiltshire  Alderbury and Whiteparish        Richard Britton     C   \n",
       "\n",
       "         Votes  Elected  Year  \n",
       "204290  1056.0      1.0  2017  \n",
       "204291   278.0      0.0  2017  \n",
       "204292   147.0      0.0  2017  \n",
       "204293    86.0      0.0  2017  \n",
       "204294   825.0      1.0  2017  "
      ]
     },
     "execution_count": 9,
     "metadata": {},
     "output_type": "execute_result"
    }
   ],
   "source": [
    "df_wilts = df.loc[df[\"Ward\"] == \"Wiltshire\"].copy()\n",
    "df_wilts.head()"
   ]
  },
  {
   "cell_type": "code",
   "execution_count": 10,
   "metadata": {
    "execution": {
     "iopub.execute_input": "2020-10-16T15:12:49.960265Z",
     "iopub.status.busy": "2020-10-16T15:12:49.959361Z",
     "iopub.status.idle": "2020-10-16T15:12:49.964011Z",
     "shell.execute_reply": "2020-10-16T15:12:49.963260Z"
    },
    "papermill": {
     "duration": 0.034753,
     "end_time": "2020-10-16T15:12:49.964136",
     "exception": false,
     "start_time": "2020-10-16T15:12:49.929383",
     "status": "completed"
    },
    "tags": []
   },
   "outputs": [
    {
     "data": {
      "text/html": [
       "<div>\n",
       "<style scoped>\n",
       "    .dataframe tbody tr th:only-of-type {\n",
       "        vertical-align: middle;\n",
       "    }\n",
       "\n",
       "    .dataframe tbody tr th {\n",
       "        vertical-align: top;\n",
       "    }\n",
       "\n",
       "    .dataframe thead th {\n",
       "        text-align: right;\n",
       "    }\n",
       "</style>\n",
       "<table border=\"1\" class=\"dataframe\">\n",
       "  <thead>\n",
       "    <tr style=\"text-align: right;\">\n",
       "      <th></th>\n",
       "      <th>Ward</th>\n",
       "      <th>Council</th>\n",
       "      <th>Candidate</th>\n",
       "      <th>Party</th>\n",
       "      <th>Votes</th>\n",
       "      <th>Elected</th>\n",
       "      <th>Year</th>\n",
       "    </tr>\n",
       "  </thead>\n",
       "  <tbody>\n",
       "    <tr>\n",
       "      <th>204607</th>\n",
       "      <td>Wiltshire</td>\n",
       "      <td>Winterslow</td>\n",
       "      <td>Christopher Devine</td>\n",
       "      <td>Ind</td>\n",
       "      <td>775.0</td>\n",
       "      <td>1.0</td>\n",
       "      <td>2017</td>\n",
       "    </tr>\n",
       "    <tr>\n",
       "      <th>204608</th>\n",
       "      <td>Wiltshire</td>\n",
       "      <td>Winterslow</td>\n",
       "      <td>Christopher Miller</td>\n",
       "      <td>C</td>\n",
       "      <td>590.0</td>\n",
       "      <td>0.0</td>\n",
       "      <td>2017</td>\n",
       "    </tr>\n",
       "    <tr>\n",
       "      <th>204609</th>\n",
       "      <td>Wiltshire</td>\n",
       "      <td>Winterslow</td>\n",
       "      <td>Colin Baxter</td>\n",
       "      <td>LD</td>\n",
       "      <td>159.0</td>\n",
       "      <td>0.0</td>\n",
       "      <td>2017</td>\n",
       "    </tr>\n",
       "    <tr>\n",
       "      <th>204610</th>\n",
       "      <td>Wiltshire</td>\n",
       "      <td>Winterslow</td>\n",
       "      <td>Alice Kiff</td>\n",
       "      <td>Grn</td>\n",
       "      <td>74.0</td>\n",
       "      <td>0.0</td>\n",
       "      <td>2017</td>\n",
       "    </tr>\n",
       "    <tr>\n",
       "      <th>204611</th>\n",
       "      <td>Wiltshire</td>\n",
       "      <td>Winterslow</td>\n",
       "      <td>Ian Martingale</td>\n",
       "      <td>Lab</td>\n",
       "      <td>45.0</td>\n",
       "      <td>0.0</td>\n",
       "      <td>2017</td>\n",
       "    </tr>\n",
       "  </tbody>\n",
       "</table>\n",
       "</div>"
      ],
      "text/plain": [
       "             Ward     Council           Candidate Party  Votes  Elected  Year\n",
       "204607  Wiltshire  Winterslow  Christopher Devine   Ind  775.0      1.0  2017\n",
       "204608  Wiltshire  Winterslow  Christopher Miller     C  590.0      0.0  2017\n",
       "204609  Wiltshire  Winterslow        Colin Baxter    LD  159.0      0.0  2017\n",
       "204610  Wiltshire  Winterslow          Alice Kiff   Grn   74.0      0.0  2017\n",
       "204611  Wiltshire  Winterslow      Ian Martingale   Lab   45.0      0.0  2017"
      ]
     },
     "execution_count": 10,
     "metadata": {},
     "output_type": "execute_result"
    }
   ],
   "source": [
    "df_wilts.tail()"
   ]
  },
  {
   "cell_type": "code",
   "execution_count": 11,
   "metadata": {
    "execution": {
     "iopub.execute_input": "2020-10-16T15:12:50.004329Z",
     "iopub.status.busy": "2020-10-16T15:12:50.003502Z",
     "iopub.status.idle": "2020-10-16T15:12:50.007884Z",
     "shell.execute_reply": "2020-10-16T15:12:50.007140Z"
    },
    "papermill": {
     "duration": 0.02712,
     "end_time": "2020-10-16T15:12:50.008024",
     "exception": false,
     "start_time": "2020-10-16T15:12:49.980904",
     "status": "completed"
    },
    "tags": []
   },
   "outputs": [
    {
     "data": {
      "text/plain": [
       "array([2017])"
      ]
     },
     "execution_count": 11,
     "metadata": {},
     "output_type": "execute_result"
    }
   ],
   "source": [
    "df_wilts.Year.unique()"
   ]
  },
  {
   "cell_type": "code",
   "execution_count": 12,
   "metadata": {
    "execution": {
     "iopub.execute_input": "2020-10-16T15:12:50.049571Z",
     "iopub.status.busy": "2020-10-16T15:12:50.047380Z",
     "iopub.status.idle": "2020-10-16T15:12:50.054388Z",
     "shell.execute_reply": "2020-10-16T15:12:50.053621Z"
    },
    "papermill": {
     "duration": 0.029655,
     "end_time": "2020-10-16T15:12:50.054514",
     "exception": false,
     "start_time": "2020-10-16T15:12:50.024859",
     "status": "completed"
    },
    "tags": []
   },
   "outputs": [],
   "source": [
    "df_wilts.to_csv('wiltshire_data.csv', index=False)"
   ]
  }
 ],
 "metadata": {
  "kernelspec": {
   "display_name": "Python 3",
   "language": "python",
   "name": "python3"
  },
  "language_info": {
   "codemirror_mode": {
    "name": "ipython",
    "version": 3
   },
   "file_extension": ".py",
   "mimetype": "text/x-python",
   "name": "python",
   "nbconvert_exporter": "python",
   "pygments_lexer": "ipython3",
   "version": "3.7.6"
  },
  "papermill": {
   "duration": 8.278317,
   "end_time": "2020-10-16T15:12:50.179113",
   "environment_variables": {},
   "exception": null,
   "input_path": "__notebook__.ipynb",
   "output_path": "__notebook__.ipynb",
   "parameters": {},
   "start_time": "2020-10-16T15:12:41.900796",
   "version": "2.1.0"
  }
 },
 "nbformat": 4,
 "nbformat_minor": 4
}
