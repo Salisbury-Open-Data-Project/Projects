{
 "cells": [
  {
   "cell_type": "code",
   "execution_count": 1,
   "metadata": {
    "execution": {
     "iopub.execute_input": "2020-10-05T15:19:47.992590Z",
     "iopub.status.busy": "2020-10-05T15:19:47.991825Z",
     "iopub.status.idle": "2020-10-05T15:19:48.968469Z",
     "shell.execute_reply": "2020-10-05T15:19:48.967795Z"
    },
    "papermill": {
     "duration": 1.006912,
     "end_time": "2020-10-05T15:19:48.968604",
     "exception": false,
     "start_time": "2020-10-05T15:19:47.961692",
     "status": "completed"
    },
    "tags": []
   },
   "outputs": [],
   "source": [
    "# Import libraries\n",
    "\n",
    "import re\n",
    "import seaborn as sns\n",
    "import matplotlib.pyplot as plt\n",
    "import plotly\n"
   ]
  },
  {
   "cell_type": "code",
   "execution_count": 2,
   "metadata": {
    "_cell_guid": "b1076dfc-b9ad-4769-8c92-a6c4dae69d19",
    "_uuid": "8f2839f25d086af736a60e9eeb907d3b93b6e0e5",
    "execution": {
     "iopub.execute_input": "2020-10-05T15:19:49.025058Z",
     "iopub.status.busy": "2020-10-05T15:19:49.024231Z",
     "iopub.status.idle": "2020-10-05T15:19:49.032236Z",
     "shell.execute_reply": "2020-10-05T15:19:49.031562Z"
    },
    "papermill": {
     "duration": 0.03908,
     "end_time": "2020-10-05T15:19:49.032351",
     "exception": false,
     "start_time": "2020-10-05T15:19:48.993271",
     "status": "completed"
    },
    "tags": []
   },
   "outputs": [
    {
     "name": "stdout",
     "output_type": "stream",
     "text": [
      "/kaggle/input/expenditure-in-the-salisbury-nhs-v2/expenditure_v2.csv\n"
     ]
    }
   ],
   "source": [
    "# This Python 3 environment comes with many helpful analytics libraries installed\n",
    "# It is defined by the kaggle/python Docker image: https://github.com/kaggle/docker-python\n",
    "# For example, here's several helpful packages to load\n",
    "\n",
    "import numpy as np # linear algebra\n",
    "import pandas as pd # data processing, CSV file I/O (e.g. pd.read_csv)\n",
    "\n",
    "# Input data files are available in the read-only \"../input/\" directory\n",
    "# For example, running this (by clicking run or pressing Shift+Enter) will list all files under the input directory\n",
    "\n",
    "import os\n",
    "for dirname, _, filenames in os.walk('/kaggle/input'):\n",
    "    for filename in filenames:\n",
    "        print(os.path.join(dirname, filename))\n",
    "\n",
    "# You can write up to 5GB to the current directory (/kaggle/working/) that gets preserved as output when you create a version using \"Save & Run All\" \n",
    "# You can also write temporary files to /kaggle/temp/, but they won't be saved outside of the current session"
   ]
  },
  {
   "cell_type": "code",
   "execution_count": 3,
   "metadata": {
    "_cell_guid": "79c7e3d0-c299-4dcb-8224-4455121ee9b0",
    "_uuid": "d629ff2d2480ee46fbb7e2d37f6b5fab8052498a",
    "execution": {
     "iopub.execute_input": "2020-10-05T15:19:49.090729Z",
     "iopub.status.busy": "2020-10-05T15:19:49.089991Z",
     "iopub.status.idle": "2020-10-05T15:19:50.809861Z",
     "shell.execute_reply": "2020-10-05T15:19:50.810475Z"
    },
    "papermill": {
     "duration": 1.753201,
     "end_time": "2020-10-05T15:19:50.810627",
     "exception": false,
     "start_time": "2020-10-05T15:19:49.057426",
     "status": "completed"
    },
    "tags": []
   },
   "outputs": [
    {
     "name": "stderr",
     "output_type": "stream",
     "text": [
      "/opt/conda/lib/python3.7/site-packages/IPython/core/interactiveshell.py:3063: DtypeWarning: Columns (7) have mixed types.Specify dtype option on import or set low_memory=False.\n",
      "  interactivity=interactivity, compiler=compiler, result=result)\n"
     ]
    },
    {
     "data": {
      "text/html": [
       "<div>\n",
       "<style scoped>\n",
       "    .dataframe tbody tr th:only-of-type {\n",
       "        vertical-align: middle;\n",
       "    }\n",
       "\n",
       "    .dataframe tbody tr th {\n",
       "        vertical-align: top;\n",
       "    }\n",
       "\n",
       "    .dataframe thead th {\n",
       "        text-align: right;\n",
       "    }\n",
       "</style>\n",
       "<table border=\"1\" class=\"dataframe\">\n",
       "  <thead>\n",
       "    <tr style=\"text-align: right;\">\n",
       "      <th></th>\n",
       "      <th>Department Family</th>\n",
       "      <th>Entity</th>\n",
       "      <th>Date</th>\n",
       "      <th>Expense Type</th>\n",
       "      <th>Expense Area</th>\n",
       "      <th>Supplier</th>\n",
       "      <th>Transaction Number</th>\n",
       "      <th>Expenditure</th>\n",
       "    </tr>\n",
       "  </thead>\n",
       "  <tbody>\n",
       "    <tr>\n",
       "      <th>0</th>\n",
       "      <td>Department of Health</td>\n",
       "      <td>Salisbury NHS Foundation Trust</td>\n",
       "      <td>2010-04-16</td>\n",
       "      <td>RATES</td>\n",
       "      <td>Facilities Directorate</td>\n",
       "      <td>WILTSHIRE COUNCIL</td>\n",
       "      <td>Apr-10</td>\n",
       "      <td>96071.17</td>\n",
       "    </tr>\n",
       "    <tr>\n",
       "      <th>1</th>\n",
       "      <td>Department of Health</td>\n",
       "      <td>Salisbury NHS Foundation Trust</td>\n",
       "      <td>2010-04-16</td>\n",
       "      <td>DRUGS</td>\n",
       "      <td>Clinical Support and Family Services</td>\n",
       "      <td>ROCHE PRODUCTS LTD</td>\n",
       "      <td>1321217701</td>\n",
       "      <td>25028.5</td>\n",
       "    </tr>\n",
       "    <tr>\n",
       "      <th>2</th>\n",
       "      <td>Department of Health</td>\n",
       "      <td>Salisbury NHS Foundation Trust</td>\n",
       "      <td>2010-04-16</td>\n",
       "      <td>DRUGS</td>\n",
       "      <td>Clinical Support and Family Services</td>\n",
       "      <td>ROCHE PRODUCTS LTD</td>\n",
       "      <td>1321217701</td>\n",
       "      <td>4379.99</td>\n",
       "    </tr>\n",
       "    <tr>\n",
       "      <th>3</th>\n",
       "      <td>Department of Health</td>\n",
       "      <td>Salisbury NHS Foundation Trust</td>\n",
       "      <td>2010-04-16</td>\n",
       "      <td>HEALTHCARE - NHS TRUSTS</td>\n",
       "      <td>Clinical Support and Family Services</td>\n",
       "      <td>ROYAL UNITED HOSPITAL BATH NHS TRUST</td>\n",
       "      <td>10291263</td>\n",
       "      <td>71642.5</td>\n",
       "    </tr>\n",
       "    <tr>\n",
       "      <th>4</th>\n",
       "      <td>Department of Health</td>\n",
       "      <td>Salisbury NHS Foundation Trust</td>\n",
       "      <td>2010-04-16</td>\n",
       "      <td>HEALTHCARE - NHS TRUSTS</td>\n",
       "      <td>Medicine</td>\n",
       "      <td>SOUTHAMPTON UNIV HOSPITAL NHS TRUST</td>\n",
       "      <td>7166068</td>\n",
       "      <td>26815.21</td>\n",
       "    </tr>\n",
       "  </tbody>\n",
       "</table>\n",
       "</div>"
      ],
      "text/plain": [
       "      Department Family                          Entity        Date  \\\n",
       "0  Department of Health  Salisbury NHS Foundation Trust  2010-04-16   \n",
       "1  Department of Health  Salisbury NHS Foundation Trust  2010-04-16   \n",
       "2  Department of Health  Salisbury NHS Foundation Trust  2010-04-16   \n",
       "3  Department of Health  Salisbury NHS Foundation Trust  2010-04-16   \n",
       "4  Department of Health  Salisbury NHS Foundation Trust  2010-04-16   \n",
       "\n",
       "              Expense Type                          Expense Area  \\\n",
       "0                    RATES                Facilities Directorate   \n",
       "1                    DRUGS  Clinical Support and Family Services   \n",
       "2                    DRUGS  Clinical Support and Family Services   \n",
       "3  HEALTHCARE - NHS TRUSTS  Clinical Support and Family Services   \n",
       "4  HEALTHCARE - NHS TRUSTS                              Medicine   \n",
       "\n",
       "                               Supplier Transaction Number Expenditure  \n",
       "0                     WILTSHIRE COUNCIL             Apr-10    96071.17  \n",
       "1                    ROCHE PRODUCTS LTD         1321217701     25028.5  \n",
       "2                    ROCHE PRODUCTS LTD         1321217701     4379.99  \n",
       "3  ROYAL UNITED HOSPITAL BATH NHS TRUST           10291263     71642.5  \n",
       "4   SOUTHAMPTON UNIV HOSPITAL NHS TRUST            7166068    26815.21  "
      ]
     },
     "execution_count": 3,
     "metadata": {},
     "output_type": "execute_result"
    }
   ],
   "source": [
    "df = pd.read_csv('../input/expenditure-in-the-salisbury-nhs-v2/expenditure_v2.csv')\n",
    "df.head()"
   ]
  },
  {
   "cell_type": "code",
   "execution_count": 4,
   "metadata": {
    "execution": {
     "iopub.execute_input": "2020-10-05T15:19:50.871606Z",
     "iopub.status.busy": "2020-10-05T15:19:50.870725Z",
     "iopub.status.idle": "2020-10-05T15:19:50.874978Z",
     "shell.execute_reply": "2020-10-05T15:19:50.875490Z"
    },
    "papermill": {
     "duration": 0.03751,
     "end_time": "2020-10-05T15:19:50.875657",
     "exception": false,
     "start_time": "2020-10-05T15:19:50.838147",
     "status": "completed"
    },
    "tags": []
   },
   "outputs": [
    {
     "data": {
      "text/plain": [
       "dtype('O')"
      ]
     },
     "execution_count": 4,
     "metadata": {},
     "output_type": "execute_result"
    }
   ],
   "source": [
    "# Check data types\n",
    "\n",
    "df['Expenditure'].dtypes"
   ]
  },
  {
   "cell_type": "code",
   "execution_count": 5,
   "metadata": {
    "execution": {
     "iopub.execute_input": "2020-10-05T15:19:50.998037Z",
     "iopub.status.busy": "2020-10-05T15:19:50.997229Z",
     "iopub.status.idle": "2020-10-05T15:19:51.190131Z",
     "shell.execute_reply": "2020-10-05T15:19:51.189435Z"
    },
    "papermill": {
     "duration": 0.288172,
     "end_time": "2020-10-05T15:19:51.190251",
     "exception": false,
     "start_time": "2020-10-05T15:19:50.902079",
     "status": "completed"
    },
    "tags": []
   },
   "outputs": [],
   "source": [
    "df['Date'] = pd.to_datetime(df['Date'], format='%Y-%m-%d')"
   ]
  },
  {
   "cell_type": "code",
   "execution_count": 6,
   "metadata": {
    "execution": {
     "iopub.execute_input": "2020-10-05T15:19:51.817097Z",
     "iopub.status.busy": "2020-10-05T15:19:51.816275Z",
     "iopub.status.idle": "2020-10-05T15:19:51.839856Z",
     "shell.execute_reply": "2020-10-05T15:19:51.840437Z"
    },
    "papermill": {
     "duration": 0.623829,
     "end_time": "2020-10-05T15:19:51.840601",
     "exception": false,
     "start_time": "2020-10-05T15:19:51.216772",
     "status": "completed"
    },
    "tags": []
   },
   "outputs": [
    {
     "data": {
      "text/plain": [
       "Department Family      0\n",
       "Entity                 0\n",
       "Date                   0\n",
       "Expense Type           0\n",
       "Expense Area          21\n",
       "Supplier               0\n",
       "Transaction Number     0\n",
       "Expenditure            0\n",
       "dtype: int64"
      ]
     },
     "execution_count": 6,
     "metadata": {},
     "output_type": "execute_result"
    }
   ],
   "source": [
    "df.isna().sum()"
   ]
  },
  {
   "cell_type": "code",
   "execution_count": 7,
   "metadata": {
    "execution": {
     "iopub.execute_input": "2020-10-05T15:19:52.343005Z",
     "iopub.status.busy": "2020-10-05T15:19:52.342215Z",
     "iopub.status.idle": "2020-10-05T15:19:52.374890Z",
     "shell.execute_reply": "2020-10-05T15:19:52.374122Z"
    },
    "papermill": {
     "duration": 0.507294,
     "end_time": "2020-10-05T15:19:52.375038",
     "exception": false,
     "start_time": "2020-10-05T15:19:51.867744",
     "status": "completed"
    },
    "tags": []
   },
   "outputs": [],
   "source": [
    "# Cast to string\n",
    "\n",
    "df[\"Expenditure\"] = df[\"Expenditure\"].astype(str)"
   ]
  },
  {
   "cell_type": "code",
   "execution_count": 8,
   "metadata": {
    "execution": {
     "iopub.execute_input": "2020-10-05T15:19:52.436242Z",
     "iopub.status.busy": "2020-10-05T15:19:52.435486Z",
     "iopub.status.idle": "2020-10-05T15:19:52.438783Z",
     "shell.execute_reply": "2020-10-05T15:19:52.438074Z"
    },
    "papermill": {
     "duration": 0.036225,
     "end_time": "2020-10-05T15:19:52.438934",
     "exception": false,
     "start_time": "2020-10-05T15:19:52.402709",
     "status": "completed"
    },
    "tags": []
   },
   "outputs": [],
   "source": [
    "# Parse string and remove non-numeric characters \n",
    "\n",
    "def make_decimal(x):\n",
    "    non_decimal = re.compile(r'[^\\d.]+')\n",
    "    non_decimal = non_decimal.sub('', x)\n",
    "    \n",
    "    return non_decimal"
   ]
  },
  {
   "cell_type": "code",
   "execution_count": 9,
   "metadata": {
    "execution": {
     "iopub.execute_input": "2020-10-05T15:19:52.500138Z",
     "iopub.status.busy": "2020-10-05T15:19:52.499370Z",
     "iopub.status.idle": "2020-10-05T15:19:54.438258Z",
     "shell.execute_reply": "2020-10-05T15:19:54.437615Z"
    },
    "papermill": {
     "duration": 1.97164,
     "end_time": "2020-10-05T15:19:54.438392",
     "exception": false,
     "start_time": "2020-10-05T15:19:52.466752",
     "status": "completed"
    },
    "tags": []
   },
   "outputs": [],
   "source": [
    "df[\"Expenditure\"] = df[\"Expenditure\"].apply(make_decimal)"
   ]
  },
  {
   "cell_type": "code",
   "execution_count": 10,
   "metadata": {
    "execution": {
     "iopub.execute_input": "2020-10-05T15:19:54.510564Z",
     "iopub.status.busy": "2020-10-05T15:19:54.509616Z",
     "iopub.status.idle": "2020-10-05T15:19:54.514225Z",
     "shell.execute_reply": "2020-10-05T15:19:54.513513Z"
    },
    "papermill": {
     "duration": 0.048253,
     "end_time": "2020-10-05T15:19:54.514345",
     "exception": false,
     "start_time": "2020-10-05T15:19:54.466092",
     "status": "completed"
    },
    "tags": []
   },
   "outputs": [
    {
     "data": {
      "text/html": [
       "<div>\n",
       "<style scoped>\n",
       "    .dataframe tbody tr th:only-of-type {\n",
       "        vertical-align: middle;\n",
       "    }\n",
       "\n",
       "    .dataframe tbody tr th {\n",
       "        vertical-align: top;\n",
       "    }\n",
       "\n",
       "    .dataframe thead th {\n",
       "        text-align: right;\n",
       "    }\n",
       "</style>\n",
       "<table border=\"1\" class=\"dataframe\">\n",
       "  <thead>\n",
       "    <tr style=\"text-align: right;\">\n",
       "      <th></th>\n",
       "      <th>Department Family</th>\n",
       "      <th>Entity</th>\n",
       "      <th>Date</th>\n",
       "      <th>Expense Type</th>\n",
       "      <th>Expense Area</th>\n",
       "      <th>Supplier</th>\n",
       "      <th>Transaction Number</th>\n",
       "      <th>Expenditure</th>\n",
       "    </tr>\n",
       "  </thead>\n",
       "  <tbody>\n",
       "    <tr>\n",
       "      <th>0</th>\n",
       "      <td>Department of Health</td>\n",
       "      <td>Salisbury NHS Foundation Trust</td>\n",
       "      <td>2010-04-16</td>\n",
       "      <td>RATES</td>\n",
       "      <td>Facilities Directorate</td>\n",
       "      <td>WILTSHIRE COUNCIL</td>\n",
       "      <td>Apr-10</td>\n",
       "      <td>96071.17</td>\n",
       "    </tr>\n",
       "    <tr>\n",
       "      <th>1</th>\n",
       "      <td>Department of Health</td>\n",
       "      <td>Salisbury NHS Foundation Trust</td>\n",
       "      <td>2010-04-16</td>\n",
       "      <td>DRUGS</td>\n",
       "      <td>Clinical Support and Family Services</td>\n",
       "      <td>ROCHE PRODUCTS LTD</td>\n",
       "      <td>1321217701</td>\n",
       "      <td>25028.5</td>\n",
       "    </tr>\n",
       "    <tr>\n",
       "      <th>2</th>\n",
       "      <td>Department of Health</td>\n",
       "      <td>Salisbury NHS Foundation Trust</td>\n",
       "      <td>2010-04-16</td>\n",
       "      <td>DRUGS</td>\n",
       "      <td>Clinical Support and Family Services</td>\n",
       "      <td>ROCHE PRODUCTS LTD</td>\n",
       "      <td>1321217701</td>\n",
       "      <td>4379.99</td>\n",
       "    </tr>\n",
       "    <tr>\n",
       "      <th>3</th>\n",
       "      <td>Department of Health</td>\n",
       "      <td>Salisbury NHS Foundation Trust</td>\n",
       "      <td>2010-04-16</td>\n",
       "      <td>HEALTHCARE - NHS TRUSTS</td>\n",
       "      <td>Clinical Support and Family Services</td>\n",
       "      <td>ROYAL UNITED HOSPITAL BATH NHS TRUST</td>\n",
       "      <td>10291263</td>\n",
       "      <td>71642.5</td>\n",
       "    </tr>\n",
       "    <tr>\n",
       "      <th>4</th>\n",
       "      <td>Department of Health</td>\n",
       "      <td>Salisbury NHS Foundation Trust</td>\n",
       "      <td>2010-04-16</td>\n",
       "      <td>HEALTHCARE - NHS TRUSTS</td>\n",
       "      <td>Medicine</td>\n",
       "      <td>SOUTHAMPTON UNIV HOSPITAL NHS TRUST</td>\n",
       "      <td>7166068</td>\n",
       "      <td>26815.21</td>\n",
       "    </tr>\n",
       "  </tbody>\n",
       "</table>\n",
       "</div>"
      ],
      "text/plain": [
       "      Department Family                          Entity       Date  \\\n",
       "0  Department of Health  Salisbury NHS Foundation Trust 2010-04-16   \n",
       "1  Department of Health  Salisbury NHS Foundation Trust 2010-04-16   \n",
       "2  Department of Health  Salisbury NHS Foundation Trust 2010-04-16   \n",
       "3  Department of Health  Salisbury NHS Foundation Trust 2010-04-16   \n",
       "4  Department of Health  Salisbury NHS Foundation Trust 2010-04-16   \n",
       "\n",
       "              Expense Type                          Expense Area  \\\n",
       "0                    RATES                Facilities Directorate   \n",
       "1                    DRUGS  Clinical Support and Family Services   \n",
       "2                    DRUGS  Clinical Support and Family Services   \n",
       "3  HEALTHCARE - NHS TRUSTS  Clinical Support and Family Services   \n",
       "4  HEALTHCARE - NHS TRUSTS                              Medicine   \n",
       "\n",
       "                               Supplier Transaction Number Expenditure  \n",
       "0                     WILTSHIRE COUNCIL             Apr-10    96071.17  \n",
       "1                    ROCHE PRODUCTS LTD         1321217701     25028.5  \n",
       "2                    ROCHE PRODUCTS LTD         1321217701     4379.99  \n",
       "3  ROYAL UNITED HOSPITAL BATH NHS TRUST           10291263     71642.5  \n",
       "4   SOUTHAMPTON UNIV HOSPITAL NHS TRUST            7166068    26815.21  "
      ]
     },
     "execution_count": 10,
     "metadata": {},
     "output_type": "execute_result"
    }
   ],
   "source": [
    "df.head()"
   ]
  },
  {
   "cell_type": "code",
   "execution_count": 11,
   "metadata": {
    "execution": {
     "iopub.execute_input": "2020-10-05T15:19:55.170348Z",
     "iopub.status.busy": "2020-10-05T15:19:55.169013Z",
     "iopub.status.idle": "2020-10-05T15:19:55.193294Z",
     "shell.execute_reply": "2020-10-05T15:19:55.192689Z"
    },
    "papermill": {
     "duration": 0.65055,
     "end_time": "2020-10-05T15:19:55.193418",
     "exception": false,
     "start_time": "2020-10-05T15:19:54.542868",
     "status": "completed"
    },
    "tags": []
   },
   "outputs": [
    {
     "data": {
      "text/plain": [
       "Department Family      0\n",
       "Entity                 0\n",
       "Date                   0\n",
       "Expense Type           0\n",
       "Expense Area          21\n",
       "Supplier               0\n",
       "Transaction Number     0\n",
       "Expenditure            0\n",
       "dtype: int64"
      ]
     },
     "execution_count": 11,
     "metadata": {},
     "output_type": "execute_result"
    }
   ],
   "source": [
    "# Check al correctly converted\n",
    "\n",
    "df.isna().sum()"
   ]
  },
  {
   "cell_type": "code",
   "execution_count": 12,
   "metadata": {
    "execution": {
     "iopub.execute_input": "2020-10-05T15:19:55.772264Z",
     "iopub.status.busy": "2020-10-05T15:19:55.771013Z",
     "iopub.status.idle": "2020-10-05T15:19:55.838525Z",
     "shell.execute_reply": "2020-10-05T15:19:55.837638Z"
    },
    "papermill": {
     "duration": 0.615957,
     "end_time": "2020-10-05T15:19:55.838660",
     "exception": false,
     "start_time": "2020-10-05T15:19:55.222703",
     "status": "completed"
    },
    "tags": []
   },
   "outputs": [],
   "source": [
    "df['Expenditure'] = pd.to_numeric(df['Expenditure'], errors='coerce')"
   ]
  },
  {
   "cell_type": "code",
   "execution_count": 13,
   "metadata": {
    "execution": {
     "iopub.execute_input": "2020-10-05T15:19:56.414107Z",
     "iopub.status.busy": "2020-10-05T15:19:56.413350Z",
     "iopub.status.idle": "2020-10-05T15:19:56.437096Z",
     "shell.execute_reply": "2020-10-05T15:19:56.437632Z"
    },
    "papermill": {
     "duration": 0.567047,
     "end_time": "2020-10-05T15:19:56.437795",
     "exception": false,
     "start_time": "2020-10-05T15:19:55.870748",
     "status": "completed"
    },
    "tags": []
   },
   "outputs": [
    {
     "data": {
      "text/plain": [
       "Department Family      0\n",
       "Entity                 0\n",
       "Date                   0\n",
       "Expense Type           0\n",
       "Expense Area          21\n",
       "Supplier               0\n",
       "Transaction Number     0\n",
       "Expenditure            0\n",
       "dtype: int64"
      ]
     },
     "execution_count": 13,
     "metadata": {},
     "output_type": "execute_result"
    }
   ],
   "source": [
    "# Check all correctly converted again\n",
    "\n",
    "df.isna().sum()"
   ]
  },
  {
   "cell_type": "code",
   "execution_count": 14,
   "metadata": {
    "execution": {
     "iopub.execute_input": "2020-10-05T15:19:56.568105Z",
     "iopub.status.busy": "2020-10-05T15:19:56.567316Z",
     "iopub.status.idle": "2020-10-05T15:19:57.094006Z",
     "shell.execute_reply": "2020-10-05T15:19:57.094599Z"
    },
    "papermill": {
     "duration": 0.626761,
     "end_time": "2020-10-05T15:19:57.094756",
     "exception": false,
     "start_time": "2020-10-05T15:19:56.467995",
     "status": "completed"
    },
    "tags": []
   },
   "outputs": [
    {
     "name": "stdout",
     "output_type": "stream",
     "text": [
      "There are 1 unique values in the Department Family column.\n",
      "\n",
      "There are 1 unique values in the Entity column.\n",
      "\n",
      "There are 535 unique values in the Date column.\n",
      "\n",
      "There are 289 unique values in the Expense Type column.\n",
      "\n",
      "There are 211 unique values in the Expense Area column.\n",
      "\n",
      "There are 375 unique values in the Supplier column.\n",
      "\n",
      "There are 3027 unique values in the Transaction Number column.\n",
      "\n",
      "There are 19137 unique values in the Expenditure column.\n",
      "\n"
     ]
    }
   ],
   "source": [
    "# Describe the columns\n",
    "    \n",
    "for col in df.columns:\n",
    "    print (\"There are {} unique values in the {} column.\\n\".format(len(df[col].unique()), col))"
   ]
  },
  {
   "cell_type": "code",
   "execution_count": 15,
   "metadata": {
    "execution": {
     "iopub.execute_input": "2020-10-05T15:19:57.225134Z",
     "iopub.status.busy": "2020-10-05T15:19:57.224358Z",
     "iopub.status.idle": "2020-10-05T15:19:57.227285Z",
     "shell.execute_reply": "2020-10-05T15:19:57.227852Z"
    },
    "papermill": {
     "duration": 0.101705,
     "end_time": "2020-10-05T15:19:57.228026",
     "exception": false,
     "start_time": "2020-10-05T15:19:57.126321",
     "status": "completed"
    },
    "tags": []
   },
   "outputs": [],
   "source": [
    "# Remove unnecessary columns\n",
    "\n",
    "df.drop([\"Department Family\", \"Entity\"], axis=1, inplace=True)"
   ]
  },
  {
   "cell_type": "code",
   "execution_count": 16,
   "metadata": {
    "execution": {
     "iopub.execute_input": "2020-10-05T15:19:57.304720Z",
     "iopub.status.busy": "2020-10-05T15:19:57.304006Z",
     "iopub.status.idle": "2020-10-05T15:19:57.308932Z",
     "shell.execute_reply": "2020-10-05T15:19:57.308228Z"
    },
    "papermill": {
     "duration": 0.049848,
     "end_time": "2020-10-05T15:19:57.309049",
     "exception": false,
     "start_time": "2020-10-05T15:19:57.259201",
     "status": "completed"
    },
    "tags": []
   },
   "outputs": [
    {
     "data": {
      "text/html": [
       "<div>\n",
       "<style scoped>\n",
       "    .dataframe tbody tr th:only-of-type {\n",
       "        vertical-align: middle;\n",
       "    }\n",
       "\n",
       "    .dataframe tbody tr th {\n",
       "        vertical-align: top;\n",
       "    }\n",
       "\n",
       "    .dataframe thead th {\n",
       "        text-align: right;\n",
       "    }\n",
       "</style>\n",
       "<table border=\"1\" class=\"dataframe\">\n",
       "  <thead>\n",
       "    <tr style=\"text-align: right;\">\n",
       "      <th></th>\n",
       "      <th>Date</th>\n",
       "      <th>Expense Type</th>\n",
       "      <th>Expense Area</th>\n",
       "      <th>Supplier</th>\n",
       "      <th>Transaction Number</th>\n",
       "      <th>Expenditure</th>\n",
       "    </tr>\n",
       "  </thead>\n",
       "  <tbody>\n",
       "    <tr>\n",
       "      <th>0</th>\n",
       "      <td>2010-04-16</td>\n",
       "      <td>RATES</td>\n",
       "      <td>Facilities Directorate</td>\n",
       "      <td>WILTSHIRE COUNCIL</td>\n",
       "      <td>Apr-10</td>\n",
       "      <td>96071.17</td>\n",
       "    </tr>\n",
       "    <tr>\n",
       "      <th>1</th>\n",
       "      <td>2010-04-16</td>\n",
       "      <td>DRUGS</td>\n",
       "      <td>Clinical Support and Family Services</td>\n",
       "      <td>ROCHE PRODUCTS LTD</td>\n",
       "      <td>1321217701</td>\n",
       "      <td>25028.50</td>\n",
       "    </tr>\n",
       "    <tr>\n",
       "      <th>2</th>\n",
       "      <td>2010-04-16</td>\n",
       "      <td>DRUGS</td>\n",
       "      <td>Clinical Support and Family Services</td>\n",
       "      <td>ROCHE PRODUCTS LTD</td>\n",
       "      <td>1321217701</td>\n",
       "      <td>4379.99</td>\n",
       "    </tr>\n",
       "    <tr>\n",
       "      <th>3</th>\n",
       "      <td>2010-04-16</td>\n",
       "      <td>HEALTHCARE - NHS TRUSTS</td>\n",
       "      <td>Clinical Support and Family Services</td>\n",
       "      <td>ROYAL UNITED HOSPITAL BATH NHS TRUST</td>\n",
       "      <td>10291263</td>\n",
       "      <td>71642.50</td>\n",
       "    </tr>\n",
       "    <tr>\n",
       "      <th>4</th>\n",
       "      <td>2010-04-16</td>\n",
       "      <td>HEALTHCARE - NHS TRUSTS</td>\n",
       "      <td>Medicine</td>\n",
       "      <td>SOUTHAMPTON UNIV HOSPITAL NHS TRUST</td>\n",
       "      <td>7166068</td>\n",
       "      <td>26815.21</td>\n",
       "    </tr>\n",
       "  </tbody>\n",
       "</table>\n",
       "</div>"
      ],
      "text/plain": [
       "        Date             Expense Type                          Expense Area  \\\n",
       "0 2010-04-16                    RATES                Facilities Directorate   \n",
       "1 2010-04-16                    DRUGS  Clinical Support and Family Services   \n",
       "2 2010-04-16                    DRUGS  Clinical Support and Family Services   \n",
       "3 2010-04-16  HEALTHCARE - NHS TRUSTS  Clinical Support and Family Services   \n",
       "4 2010-04-16  HEALTHCARE - NHS TRUSTS                              Medicine   \n",
       "\n",
       "                               Supplier Transaction Number  Expenditure  \n",
       "0                     WILTSHIRE COUNCIL             Apr-10     96071.17  \n",
       "1                    ROCHE PRODUCTS LTD         1321217701     25028.50  \n",
       "2                    ROCHE PRODUCTS LTD         1321217701      4379.99  \n",
       "3  ROYAL UNITED HOSPITAL BATH NHS TRUST           10291263     71642.50  \n",
       "4   SOUTHAMPTON UNIV HOSPITAL NHS TRUST            7166068     26815.21  "
      ]
     },
     "execution_count": 16,
     "metadata": {},
     "output_type": "execute_result"
    }
   ],
   "source": [
    "df.head()"
   ]
  },
  {
   "cell_type": "code",
   "execution_count": 17,
   "metadata": {
    "execution": {
     "iopub.execute_input": "2020-10-05T15:19:57.377879Z",
     "iopub.status.busy": "2020-10-05T15:19:57.377186Z",
     "iopub.status.idle": "2020-10-05T15:19:57.381535Z",
     "shell.execute_reply": "2020-10-05T15:19:57.382088Z"
    },
    "papermill": {
     "duration": 0.041153,
     "end_time": "2020-10-05T15:19:57.382244",
     "exception": false,
     "start_time": "2020-10-05T15:19:57.341091",
     "status": "completed"
    },
    "tags": []
   },
   "outputs": [
    {
     "data": {
      "text/plain": [
       "804799"
      ]
     },
     "execution_count": 17,
     "metadata": {},
     "output_type": "execute_result"
    }
   ],
   "source": [
    "len(df)"
   ]
  },
  {
   "cell_type": "code",
   "execution_count": 18,
   "metadata": {
    "execution": {
     "iopub.execute_input": "2020-10-05T15:19:57.537229Z",
     "iopub.status.busy": "2020-10-05T15:19:57.536475Z",
     "iopub.status.idle": "2020-10-05T15:19:57.578080Z",
     "shell.execute_reply": "2020-10-05T15:19:57.578593Z"
    },
    "papermill": {
     "duration": 0.164302,
     "end_time": "2020-10-05T15:19:57.578755",
     "exception": false,
     "start_time": "2020-10-05T15:19:57.414453",
     "status": "completed"
    },
    "tags": []
   },
   "outputs": [
    {
     "data": {
      "text/html": [
       "<div>\n",
       "<style scoped>\n",
       "    .dataframe tbody tr th:only-of-type {\n",
       "        vertical-align: middle;\n",
       "    }\n",
       "\n",
       "    .dataframe tbody tr th {\n",
       "        vertical-align: top;\n",
       "    }\n",
       "\n",
       "    .dataframe thead th {\n",
       "        text-align: right;\n",
       "    }\n",
       "</style>\n",
       "<table border=\"1\" class=\"dataframe\">\n",
       "  <thead>\n",
       "    <tr style=\"text-align: right;\">\n",
       "      <th></th>\n",
       "      <th>Date</th>\n",
       "      <th>Expense Type</th>\n",
       "      <th>Expense Area</th>\n",
       "      <th>Supplier</th>\n",
       "      <th>Transaction Number</th>\n",
       "      <th>Expenditure</th>\n",
       "    </tr>\n",
       "  </thead>\n",
       "  <tbody>\n",
       "    <tr>\n",
       "      <th>185190</th>\n",
       "      <td>2012-01-13</td>\n",
       "      <td>NHS LOGISTICS CREDITS</td>\n",
       "      <td>NaN</td>\n",
       "      <td>NHS LOGISTICS</td>\n",
       "      <td>1012157091</td>\n",
       "      <td>783.43</td>\n",
       "    </tr>\n",
       "    <tr>\n",
       "      <th>185197</th>\n",
       "      <td>2012-01-13</td>\n",
       "      <td>NHS LOGISTICS CREDITS</td>\n",
       "      <td>NaN</td>\n",
       "      <td>NHS LOGISTICS</td>\n",
       "      <td>1012157091</td>\n",
       "      <td>156.69</td>\n",
       "    </tr>\n",
       "    <tr>\n",
       "      <th>192713</th>\n",
       "      <td>2012-01-13</td>\n",
       "      <td>NHS LOGISTICS CREDITS</td>\n",
       "      <td>NaN</td>\n",
       "      <td>NHS LOGISTICS</td>\n",
       "      <td>1012161771</td>\n",
       "      <td>117.74</td>\n",
       "    </tr>\n",
       "    <tr>\n",
       "      <th>194948</th>\n",
       "      <td>2012-01-13</td>\n",
       "      <td>NHS LOGISTICS CREDITS</td>\n",
       "      <td>NaN</td>\n",
       "      <td>NHS LOGISTICS</td>\n",
       "      <td>1012161771</td>\n",
       "      <td>833.33</td>\n",
       "    </tr>\n",
       "    <tr>\n",
       "      <th>194949</th>\n",
       "      <td>2012-01-13</td>\n",
       "      <td>NHS LOGISTICS CREDITS</td>\n",
       "      <td>NaN</td>\n",
       "      <td>NHS LOGISTICS</td>\n",
       "      <td>1012161771</td>\n",
       "      <td>140.83</td>\n",
       "    </tr>\n",
       "    <tr>\n",
       "      <th>196778</th>\n",
       "      <td>2012-01-27</td>\n",
       "      <td>HARD/SOFTWARE-COMPUTER SOFTWARE  OFF THE SHELF...</td>\n",
       "      <td>NaN</td>\n",
       "      <td>SOFTCAT LIMITED</td>\n",
       "      <td>INV00601447</td>\n",
       "      <td>1478.46</td>\n",
       "    </tr>\n",
       "    <tr>\n",
       "      <th>196780</th>\n",
       "      <td>2012-01-27</td>\n",
       "      <td>HARD/SOFTWARE-COMPUTER SOFTWARE  OFF THE SHELF...</td>\n",
       "      <td>NaN</td>\n",
       "      <td>SOFTCAT LIMITED</td>\n",
       "      <td>INV00601447</td>\n",
       "      <td>7392.30</td>\n",
       "    </tr>\n",
       "    <tr>\n",
       "      <th>497171</th>\n",
       "      <td>2015-10-02</td>\n",
       "      <td>Medical Agecy Spend</td>\n",
       "      <td>NaN</td>\n",
       "      <td>TALENT HUMAN CAPITAL MANAGEMENT LTD</td>\n",
       "      <td>2001068</td>\n",
       "      <td>26240.30</td>\n",
       "    </tr>\n",
       "    <tr>\n",
       "      <th>503135</th>\n",
       "      <td>2015-11-20</td>\n",
       "      <td>DISPOSABLE THEATRE DRAPES WIPES</td>\n",
       "      <td>NaN</td>\n",
       "      <td>NHS LOGISTICS</td>\n",
       "      <td>1016132812</td>\n",
       "      <td>16.25</td>\n",
       "    </tr>\n",
       "    <tr>\n",
       "      <th>503625</th>\n",
       "      <td>2015-11-20</td>\n",
       "      <td>PATIENTS BEDWEAR UNISEX</td>\n",
       "      <td>NaN</td>\n",
       "      <td>NHS LOGISTICS</td>\n",
       "      <td>1016127607</td>\n",
       "      <td>24.00</td>\n",
       "    </tr>\n",
       "    <tr>\n",
       "      <th>503649</th>\n",
       "      <td>2015-11-20</td>\n",
       "      <td>PATIENTS BEDWEAR UNISEX</td>\n",
       "      <td>NaN</td>\n",
       "      <td>NHS LOGISTICS</td>\n",
       "      <td>1016127607</td>\n",
       "      <td>4.80</td>\n",
       "    </tr>\n",
       "    <tr>\n",
       "      <th>505168</th>\n",
       "      <td>2015-11-20</td>\n",
       "      <td>DISPOSABLE THEATRE DRAPES WIPES</td>\n",
       "      <td>NaN</td>\n",
       "      <td>NHS LOGISTICS</td>\n",
       "      <td>1016132812</td>\n",
       "      <td>3.25</td>\n",
       "    </tr>\n",
       "    <tr>\n",
       "      <th>636963</th>\n",
       "      <td>2018-10-05</td>\n",
       "      <td>ELECTRICAL EQUIPMENT x</td>\n",
       "      <td>NaN</td>\n",
       "      <td>NHS LOGISTICS</td>\n",
       "      <td>1019103865</td>\n",
       "      <td>30.87</td>\n",
       "    </tr>\n",
       "    <tr>\n",
       "      <th>637554</th>\n",
       "      <td>2018-10-05</td>\n",
       "      <td>ELECTRICAL EQUIPMENT x</td>\n",
       "      <td>NaN</td>\n",
       "      <td>NHS LOGISTICS</td>\n",
       "      <td>1019103865</td>\n",
       "      <td>6.17</td>\n",
       "    </tr>\n",
       "    <tr>\n",
       "      <th>639079</th>\n",
       "      <td>2018-10-05</td>\n",
       "      <td>DRESSINGS - PRE STERILE</td>\n",
       "      <td>NaN</td>\n",
       "      <td>NHS LOGISTICS</td>\n",
       "      <td>1019118665</td>\n",
       "      <td>1.19</td>\n",
       "    </tr>\n",
       "    <tr>\n",
       "      <th>639272</th>\n",
       "      <td>2018-10-05</td>\n",
       "      <td>DRESSINGS - PRE STERILE</td>\n",
       "      <td>NaN</td>\n",
       "      <td>NHS LOGISTICS</td>\n",
       "      <td>1019118665</td>\n",
       "      <td>6.80</td>\n",
       "    </tr>\n",
       "    <tr>\n",
       "      <th>639610</th>\n",
       "      <td>2018-10-05</td>\n",
       "      <td>DRESSINGS - PRE STERILE</td>\n",
       "      <td>NaN</td>\n",
       "      <td>NHS LOGISTICS</td>\n",
       "      <td>1019118665</td>\n",
       "      <td>34.00</td>\n",
       "    </tr>\n",
       "    <tr>\n",
       "      <th>640178</th>\n",
       "      <td>2018-10-05</td>\n",
       "      <td>DRESSINGS - PRE STERILE</td>\n",
       "      <td>NaN</td>\n",
       "      <td>NHS LOGISTICS</td>\n",
       "      <td>1019118665</td>\n",
       "      <td>5.95</td>\n",
       "    </tr>\n",
       "    <tr>\n",
       "      <th>640225</th>\n",
       "      <td>2018-10-12</td>\n",
       "      <td>LAB EQUIP-LABORATORY APPARATUS</td>\n",
       "      <td>NaN</td>\n",
       "      <td>BECKMAN COULTER</td>\n",
       "      <td>1417849</td>\n",
       "      <td>49091.78</td>\n",
       "    </tr>\n",
       "    <tr>\n",
       "      <th>641207</th>\n",
       "      <td>2018-10-12</td>\n",
       "      <td>PATIENTS INCONTINENCE</td>\n",
       "      <td>NaN</td>\n",
       "      <td>NHS LOGISTICS</td>\n",
       "      <td>1019123543</td>\n",
       "      <td>12.00</td>\n",
       "    </tr>\n",
       "    <tr>\n",
       "      <th>641208</th>\n",
       "      <td>2018-10-12</td>\n",
       "      <td>PATIENTS INCONTINENCE</td>\n",
       "      <td>NaN</td>\n",
       "      <td>NHS LOGISTICS</td>\n",
       "      <td>1019123543</td>\n",
       "      <td>2.40</td>\n",
       "    </tr>\n",
       "  </tbody>\n",
       "</table>\n",
       "</div>"
      ],
      "text/plain": [
       "             Date                                       Expense Type  \\\n",
       "185190 2012-01-13                              NHS LOGISTICS CREDITS   \n",
       "185197 2012-01-13                              NHS LOGISTICS CREDITS   \n",
       "192713 2012-01-13                              NHS LOGISTICS CREDITS   \n",
       "194948 2012-01-13                              NHS LOGISTICS CREDITS   \n",
       "194949 2012-01-13                              NHS LOGISTICS CREDITS   \n",
       "196778 2012-01-27  HARD/SOFTWARE-COMPUTER SOFTWARE  OFF THE SHELF...   \n",
       "196780 2012-01-27  HARD/SOFTWARE-COMPUTER SOFTWARE  OFF THE SHELF...   \n",
       "497171 2015-10-02                                Medical Agecy Spend   \n",
       "503135 2015-11-20                    DISPOSABLE THEATRE DRAPES WIPES   \n",
       "503625 2015-11-20                            PATIENTS BEDWEAR UNISEX   \n",
       "503649 2015-11-20                            PATIENTS BEDWEAR UNISEX   \n",
       "505168 2015-11-20                    DISPOSABLE THEATRE DRAPES WIPES   \n",
       "636963 2018-10-05                             ELECTRICAL EQUIPMENT x   \n",
       "637554 2018-10-05                             ELECTRICAL EQUIPMENT x   \n",
       "639079 2018-10-05                            DRESSINGS - PRE STERILE   \n",
       "639272 2018-10-05                            DRESSINGS - PRE STERILE   \n",
       "639610 2018-10-05                            DRESSINGS - PRE STERILE   \n",
       "640178 2018-10-05                            DRESSINGS - PRE STERILE   \n",
       "640225 2018-10-12                     LAB EQUIP-LABORATORY APPARATUS   \n",
       "641207 2018-10-12                              PATIENTS INCONTINENCE   \n",
       "641208 2018-10-12                              PATIENTS INCONTINENCE   \n",
       "\n",
       "       Expense Area                             Supplier Transaction Number  \\\n",
       "185190          NaN                        NHS LOGISTICS         1012157091   \n",
       "185197          NaN                        NHS LOGISTICS         1012157091   \n",
       "192713          NaN                        NHS LOGISTICS         1012161771   \n",
       "194948          NaN                        NHS LOGISTICS         1012161771   \n",
       "194949          NaN                        NHS LOGISTICS         1012161771   \n",
       "196778          NaN                      SOFTCAT LIMITED        INV00601447   \n",
       "196780          NaN                      SOFTCAT LIMITED        INV00601447   \n",
       "497171          NaN  TALENT HUMAN CAPITAL MANAGEMENT LTD            2001068   \n",
       "503135          NaN                        NHS LOGISTICS         1016132812   \n",
       "503625          NaN                        NHS LOGISTICS         1016127607   \n",
       "503649          NaN                        NHS LOGISTICS         1016127607   \n",
       "505168          NaN                        NHS LOGISTICS         1016132812   \n",
       "636963          NaN                        NHS LOGISTICS         1019103865   \n",
       "637554          NaN                        NHS LOGISTICS         1019103865   \n",
       "639079          NaN                        NHS LOGISTICS         1019118665   \n",
       "639272          NaN                        NHS LOGISTICS         1019118665   \n",
       "639610          NaN                        NHS LOGISTICS         1019118665   \n",
       "640178          NaN                        NHS LOGISTICS         1019118665   \n",
       "640225          NaN                      BECKMAN COULTER            1417849   \n",
       "641207          NaN                        NHS LOGISTICS         1019123543   \n",
       "641208          NaN                        NHS LOGISTICS         1019123543   \n",
       "\n",
       "        Expenditure  \n",
       "185190       783.43  \n",
       "185197       156.69  \n",
       "192713       117.74  \n",
       "194948       833.33  \n",
       "194949       140.83  \n",
       "196778      1478.46  \n",
       "196780      7392.30  \n",
       "497171     26240.30  \n",
       "503135        16.25  \n",
       "503625        24.00  \n",
       "503649         4.80  \n",
       "505168         3.25  \n",
       "636963        30.87  \n",
       "637554         6.17  \n",
       "639079         1.19  \n",
       "639272         6.80  \n",
       "639610        34.00  \n",
       "640178         5.95  \n",
       "640225     49091.78  \n",
       "641207        12.00  \n",
       "641208         2.40  "
      ]
     },
     "execution_count": 18,
     "metadata": {},
     "output_type": "execute_result"
    }
   ],
   "source": [
    "# See what NaN rows are like\n",
    "\n",
    "df.loc[df[\"Expense Area\"].isna() == True]"
   ]
  },
  {
   "cell_type": "code",
   "execution_count": 19,
   "metadata": {
    "execution": {
     "iopub.execute_input": "2020-10-05T15:19:57.651186Z",
     "iopub.status.busy": "2020-10-05T15:19:57.650418Z",
     "iopub.status.idle": "2020-10-05T15:19:57.999573Z",
     "shell.execute_reply": "2020-10-05T15:19:57.998973Z"
    },
    "papermill": {
     "duration": 0.387364,
     "end_time": "2020-10-05T15:19:57.999708",
     "exception": false,
     "start_time": "2020-10-05T15:19:57.612344",
     "status": "completed"
    },
    "tags": []
   },
   "outputs": [],
   "source": [
    "df.fillna(\"Unknown\", inplace=True)"
   ]
  },
  {
   "cell_type": "code",
   "execution_count": 20,
   "metadata": {
    "execution": {
     "iopub.execute_input": "2020-10-05T15:19:58.073424Z",
     "iopub.status.busy": "2020-10-05T15:19:58.072467Z",
     "iopub.status.idle": "2020-10-05T15:19:58.429709Z",
     "shell.execute_reply": "2020-10-05T15:19:58.429121Z"
    },
    "papermill": {
     "duration": 0.396004,
     "end_time": "2020-10-05T15:19:58.429835",
     "exception": false,
     "start_time": "2020-10-05T15:19:58.033831",
     "status": "completed"
    },
    "tags": []
   },
   "outputs": [
    {
     "data": {
      "text/plain": [
       "Date                  0\n",
       "Expense Type          0\n",
       "Expense Area          0\n",
       "Supplier              0\n",
       "Transaction Number    0\n",
       "Expenditure           0\n",
       "dtype: int64"
      ]
     },
     "execution_count": 20,
     "metadata": {},
     "output_type": "execute_result"
    }
   ],
   "source": [
    "df.isna().sum()"
   ]
  },
  {
   "cell_type": "code",
   "execution_count": 21,
   "metadata": {
    "execution": {
     "iopub.execute_input": "2020-10-05T15:19:58.505553Z",
     "iopub.status.busy": "2020-10-05T15:19:58.504717Z",
     "iopub.status.idle": "2020-10-05T15:19:58.596072Z",
     "shell.execute_reply": "2020-10-05T15:19:58.595429Z"
    },
    "papermill": {
     "duration": 0.131601,
     "end_time": "2020-10-05T15:19:58.596202",
     "exception": false,
     "start_time": "2020-10-05T15:19:58.464601",
     "status": "completed"
    },
    "tags": []
   },
   "outputs": [
    {
     "data": {
      "text/html": [
       "<div>\n",
       "<style scoped>\n",
       "    .dataframe tbody tr th:only-of-type {\n",
       "        vertical-align: middle;\n",
       "    }\n",
       "\n",
       "    .dataframe tbody tr th {\n",
       "        vertical-align: top;\n",
       "    }\n",
       "\n",
       "    .dataframe thead th {\n",
       "        text-align: right;\n",
       "    }\n",
       "</style>\n",
       "<table border=\"1\" class=\"dataframe\">\n",
       "  <thead>\n",
       "    <tr style=\"text-align: right;\">\n",
       "      <th></th>\n",
       "      <th>Date</th>\n",
       "      <th>Expense Type</th>\n",
       "      <th>Expense Area</th>\n",
       "      <th>Supplier</th>\n",
       "      <th>Transaction Number</th>\n",
       "      <th>Expenditure</th>\n",
       "      <th>Year</th>\n",
       "    </tr>\n",
       "  </thead>\n",
       "  <tbody>\n",
       "    <tr>\n",
       "      <th>0</th>\n",
       "      <td>2010-04-16</td>\n",
       "      <td>RATES</td>\n",
       "      <td>Facilities Directorate</td>\n",
       "      <td>WILTSHIRE COUNCIL</td>\n",
       "      <td>Apr-10</td>\n",
       "      <td>96071.17</td>\n",
       "      <td>2010</td>\n",
       "    </tr>\n",
       "    <tr>\n",
       "      <th>1</th>\n",
       "      <td>2010-04-16</td>\n",
       "      <td>DRUGS</td>\n",
       "      <td>Clinical Support and Family Services</td>\n",
       "      <td>ROCHE PRODUCTS LTD</td>\n",
       "      <td>1321217701</td>\n",
       "      <td>25028.50</td>\n",
       "      <td>2010</td>\n",
       "    </tr>\n",
       "    <tr>\n",
       "      <th>2</th>\n",
       "      <td>2010-04-16</td>\n",
       "      <td>DRUGS</td>\n",
       "      <td>Clinical Support and Family Services</td>\n",
       "      <td>ROCHE PRODUCTS LTD</td>\n",
       "      <td>1321217701</td>\n",
       "      <td>4379.99</td>\n",
       "      <td>2010</td>\n",
       "    </tr>\n",
       "    <tr>\n",
       "      <th>3</th>\n",
       "      <td>2010-04-16</td>\n",
       "      <td>HEALTHCARE - NHS TRUSTS</td>\n",
       "      <td>Clinical Support and Family Services</td>\n",
       "      <td>ROYAL UNITED HOSPITAL BATH NHS TRUST</td>\n",
       "      <td>10291263</td>\n",
       "      <td>71642.50</td>\n",
       "      <td>2010</td>\n",
       "    </tr>\n",
       "    <tr>\n",
       "      <th>4</th>\n",
       "      <td>2010-04-16</td>\n",
       "      <td>HEALTHCARE - NHS TRUSTS</td>\n",
       "      <td>Medicine</td>\n",
       "      <td>SOUTHAMPTON UNIV HOSPITAL NHS TRUST</td>\n",
       "      <td>7166068</td>\n",
       "      <td>26815.21</td>\n",
       "      <td>2010</td>\n",
       "    </tr>\n",
       "  </tbody>\n",
       "</table>\n",
       "</div>"
      ],
      "text/plain": [
       "        Date             Expense Type                          Expense Area  \\\n",
       "0 2010-04-16                    RATES                Facilities Directorate   \n",
       "1 2010-04-16                    DRUGS  Clinical Support and Family Services   \n",
       "2 2010-04-16                    DRUGS  Clinical Support and Family Services   \n",
       "3 2010-04-16  HEALTHCARE - NHS TRUSTS  Clinical Support and Family Services   \n",
       "4 2010-04-16  HEALTHCARE - NHS TRUSTS                              Medicine   \n",
       "\n",
       "                               Supplier Transaction Number  Expenditure  Year  \n",
       "0                     WILTSHIRE COUNCIL             Apr-10     96071.17  2010  \n",
       "1                    ROCHE PRODUCTS LTD         1321217701     25028.50  2010  \n",
       "2                    ROCHE PRODUCTS LTD         1321217701      4379.99  2010  \n",
       "3  ROYAL UNITED HOSPITAL BATH NHS TRUST           10291263     71642.50  2010  \n",
       "4   SOUTHAMPTON UNIV HOSPITAL NHS TRUST            7166068     26815.21  2010  "
      ]
     },
     "execution_count": 21,
     "metadata": {},
     "output_type": "execute_result"
    }
   ],
   "source": [
    "df[\"Year\"] = df['Date'].dt.year\n",
    "df.head()"
   ]
  },
  {
   "cell_type": "markdown",
   "metadata": {
    "papermill": {
     "duration": 0.034551,
     "end_time": "2020-10-05T15:19:58.665988",
     "exception": false,
     "start_time": "2020-10-05T15:19:58.631437",
     "status": "completed"
    },
    "tags": []
   },
   "source": [
    "### Transactions by Number of Transactions and Total Expenditure"
   ]
  },
  {
   "cell_type": "code",
   "execution_count": 22,
   "metadata": {
    "execution": {
     "iopub.execute_input": "2020-10-05T15:19:58.744828Z",
     "iopub.status.busy": "2020-10-05T15:19:58.744107Z",
     "iopub.status.idle": "2020-10-05T15:20:00.407694Z",
     "shell.execute_reply": "2020-10-05T15:20:00.406993Z"
    },
    "papermill": {
     "duration": 1.706868,
     "end_time": "2020-10-05T15:20:00.407817",
     "exception": false,
     "start_time": "2020-10-05T15:19:58.700949",
     "status": "completed"
    },
    "tags": []
   },
   "outputs": [],
   "source": [
    "# Calculate by expenditure and by transaction number\n",
    "\n",
    "\n",
    "# by Expense Type\n",
    "df_x_type = df.groupby(['Expense Type']).agg({'Expenditure': 'sum'})\n",
    "df_x_type[\"% of Total Expenditure\"] = df_x_type.apply(lambda x: (100 * x) / float(x.sum()))\n",
    "df_x_type[\"No. of Transactions\"] = df['Expense Type'].value_counts()\n",
    "df_x_type[\"% of Total Transactions\"] = (df['Expense Type'].value_counts(normalize=True) * 100)\n",
    "df_x_type.sort_values(\"Expenditure\", ascending = False, inplace=True)\n",
    "\n",
    "# By Expense Area\n",
    "df_x_area = df.groupby(['Expense Area']).agg({'Expenditure': 'sum'})\n",
    "df_x_area[\"% of Total Expenditure\"] = df_x_area.apply(lambda x: (100 * x) / float(x.sum()))\n",
    "df_x_area[\"No. of Transactions\"] = df['Expense Area'].value_counts()\n",
    "df_x_area[\"% of Total Transactions\"] = (df['Expense Area'].value_counts(normalize=True) * 100)\n",
    "df_x_area.sort_values(\"Expenditure\", ascending = False, inplace=True)\n",
    "\n",
    "# By supplier\n",
    "df_supplier = df.groupby(['Supplier']).agg({'Expenditure': 'sum'})\n",
    "df_supplier[\"% of Total Expenditure\"] = df_supplier.apply(lambda x: (100 * x) / float(x.sum()))\n",
    "df_supplier[\"No. of Transactions\"] = df['Supplier'].value_counts()\n",
    "df_supplier[\"% of Total Transactions\"] = (df['Supplier'].value_counts(normalize=True) * 100)\n",
    "df_supplier.sort_values(\"Expenditure\", ascending = False, inplace=True)"
   ]
  },
  {
   "cell_type": "code",
   "execution_count": 23,
   "metadata": {
    "execution": {
     "iopub.execute_input": "2020-10-05T15:20:00.492875Z",
     "iopub.status.busy": "2020-10-05T15:20:00.491821Z",
     "iopub.status.idle": "2020-10-05T15:20:00.496652Z",
     "shell.execute_reply": "2020-10-05T15:20:00.495897Z"
    },
    "papermill": {
     "duration": 0.052941,
     "end_time": "2020-10-05T15:20:00.496775",
     "exception": false,
     "start_time": "2020-10-05T15:20:00.443834",
     "status": "completed"
    },
    "tags": []
   },
   "outputs": [
    {
     "data": {
      "text/html": [
       "<div>\n",
       "<style scoped>\n",
       "    .dataframe tbody tr th:only-of-type {\n",
       "        vertical-align: middle;\n",
       "    }\n",
       "\n",
       "    .dataframe tbody tr th {\n",
       "        vertical-align: top;\n",
       "    }\n",
       "\n",
       "    .dataframe thead th {\n",
       "        text-align: right;\n",
       "    }\n",
       "</style>\n",
       "<table border=\"1\" class=\"dataframe\">\n",
       "  <thead>\n",
       "    <tr style=\"text-align: right;\">\n",
       "      <th></th>\n",
       "      <th>Expenditure</th>\n",
       "      <th>% of Total Expenditure</th>\n",
       "      <th>No. of Transactions</th>\n",
       "      <th>% of Total Transactions</th>\n",
       "    </tr>\n",
       "    <tr>\n",
       "      <th>Expense Type</th>\n",
       "      <th></th>\n",
       "      <th></th>\n",
       "      <th></th>\n",
       "      <th></th>\n",
       "    </tr>\n",
       "  </thead>\n",
       "  <tbody>\n",
       "    <tr>\n",
       "      <th>ETS UNITARY CHARGE</th>\n",
       "      <td>28082887.73</td>\n",
       "      <td>13.124170</td>\n",
       "      <td>98</td>\n",
       "      <td>0.012177</td>\n",
       "    </tr>\n",
       "    <tr>\n",
       "      <th>DRUGS</th>\n",
       "      <td>15064663.22</td>\n",
       "      <td>7.040273</td>\n",
       "      <td>14771</td>\n",
       "      <td>1.835365</td>\n",
       "    </tr>\n",
       "    <tr>\n",
       "      <th>HEALTHCARE - NHS TRUSTS</th>\n",
       "      <td>13122491.75</td>\n",
       "      <td>6.132625</td>\n",
       "      <td>551</td>\n",
       "      <td>0.068464</td>\n",
       "    </tr>\n",
       "    <tr>\n",
       "      <th>BLDG STRUCTURES MAIN CONTR</th>\n",
       "      <td>11530899.60</td>\n",
       "      <td>5.388815</td>\n",
       "      <td>242</td>\n",
       "      <td>0.030070</td>\n",
       "    </tr>\n",
       "    <tr>\n",
       "      <th>NETWORKING COSTS</th>\n",
       "      <td>11376942.46</td>\n",
       "      <td>5.316865</td>\n",
       "      <td>553</td>\n",
       "      <td>0.068713</td>\n",
       "    </tr>\n",
       "  </tbody>\n",
       "</table>\n",
       "</div>"
      ],
      "text/plain": [
       "                            Expenditure  % of Total Expenditure  \\\n",
       "Expense Type                                                      \n",
       "ETS UNITARY CHARGE          28082887.73               13.124170   \n",
       "DRUGS                       15064663.22                7.040273   \n",
       "HEALTHCARE - NHS TRUSTS     13122491.75                6.132625   \n",
       "BLDG STRUCTURES MAIN CONTR  11530899.60                5.388815   \n",
       "NETWORKING COSTS            11376942.46                5.316865   \n",
       "\n",
       "                            No. of Transactions  % of Total Transactions  \n",
       "Expense Type                                                              \n",
       "ETS UNITARY CHARGE                           98                 0.012177  \n",
       "DRUGS                                     14771                 1.835365  \n",
       "HEALTHCARE - NHS TRUSTS                     551                 0.068464  \n",
       "BLDG STRUCTURES MAIN CONTR                  242                 0.030070  \n",
       "NETWORKING COSTS                            553                 0.068713  "
      ]
     },
     "execution_count": 23,
     "metadata": {},
     "output_type": "execute_result"
    }
   ],
   "source": [
    "df_x_type.head()"
   ]
  },
  {
   "cell_type": "code",
   "execution_count": 24,
   "metadata": {
    "execution": {
     "iopub.execute_input": "2020-10-05T15:20:00.583687Z",
     "iopub.status.busy": "2020-10-05T15:20:00.576549Z",
     "iopub.status.idle": "2020-10-05T15:20:00.588672Z",
     "shell.execute_reply": "2020-10-05T15:20:00.587885Z"
    },
    "papermill": {
     "duration": 0.054824,
     "end_time": "2020-10-05T15:20:00.588800",
     "exception": false,
     "start_time": "2020-10-05T15:20:00.533976",
     "status": "completed"
    },
    "tags": []
   },
   "outputs": [
    {
     "data": {
      "text/html": [
       "<div>\n",
       "<style scoped>\n",
       "    .dataframe tbody tr th:only-of-type {\n",
       "        vertical-align: middle;\n",
       "    }\n",
       "\n",
       "    .dataframe tbody tr th {\n",
       "        vertical-align: top;\n",
       "    }\n",
       "\n",
       "    .dataframe thead th {\n",
       "        text-align: right;\n",
       "    }\n",
       "</style>\n",
       "<table border=\"1\" class=\"dataframe\">\n",
       "  <thead>\n",
       "    <tr style=\"text-align: right;\">\n",
       "      <th></th>\n",
       "      <th>Expenditure</th>\n",
       "      <th>% of Total Expenditure</th>\n",
       "      <th>No. of Transactions</th>\n",
       "      <th>% of Total Transactions</th>\n",
       "    </tr>\n",
       "    <tr>\n",
       "      <th>Expense Area</th>\n",
       "      <th></th>\n",
       "      <th></th>\n",
       "      <th></th>\n",
       "      <th></th>\n",
       "    </tr>\n",
       "  </thead>\n",
       "  <tbody>\n",
       "    <tr>\n",
       "      <th>Facilities Directorate</th>\n",
       "      <td>4.496786e+07</td>\n",
       "      <td>21.015140</td>\n",
       "      <td>68738</td>\n",
       "      <td>8.541015</td>\n",
       "    </tr>\n",
       "    <tr>\n",
       "      <th>Clinical Support and Family Services</th>\n",
       "      <td>3.763960e+07</td>\n",
       "      <td>17.590377</td>\n",
       "      <td>109166</td>\n",
       "      <td>13.564381</td>\n",
       "    </tr>\n",
       "    <tr>\n",
       "      <th>Capital Projects</th>\n",
       "      <td>2.887126e+07</td>\n",
       "      <td>13.492606</td>\n",
       "      <td>1714</td>\n",
       "      <td>0.212972</td>\n",
       "    </tr>\n",
       "    <tr>\n",
       "      <th>Clinical Support</th>\n",
       "      <td>1.291566e+07</td>\n",
       "      <td>6.035964</td>\n",
       "      <td>34358</td>\n",
       "      <td>4.269140</td>\n",
       "    </tr>\n",
       "    <tr>\n",
       "      <th>CAPITAL PROJECTS</th>\n",
       "      <td>1.048075e+07</td>\n",
       "      <td>4.898039</td>\n",
       "      <td>346</td>\n",
       "      <td>0.042992</td>\n",
       "    </tr>\n",
       "  </tbody>\n",
       "</table>\n",
       "</div>"
      ],
      "text/plain": [
       "                                       Expenditure  % of Total Expenditure  \\\n",
       "Expense Area                                                                 \n",
       "Facilities Directorate                4.496786e+07               21.015140   \n",
       "Clinical Support and Family Services  3.763960e+07               17.590377   \n",
       "Capital Projects                      2.887126e+07               13.492606   \n",
       "Clinical Support                      1.291566e+07                6.035964   \n",
       "CAPITAL PROJECTS                      1.048075e+07                4.898039   \n",
       "\n",
       "                                      No. of Transactions  \\\n",
       "Expense Area                                                \n",
       "Facilities Directorate                              68738   \n",
       "Clinical Support and Family Services               109166   \n",
       "Capital Projects                                     1714   \n",
       "Clinical Support                                    34358   \n",
       "CAPITAL PROJECTS                                      346   \n",
       "\n",
       "                                      % of Total Transactions  \n",
       "Expense Area                                                   \n",
       "Facilities Directorate                               8.541015  \n",
       "Clinical Support and Family Services                13.564381  \n",
       "Capital Projects                                     0.212972  \n",
       "Clinical Support                                     4.269140  \n",
       "CAPITAL PROJECTS                                     0.042992  "
      ]
     },
     "execution_count": 24,
     "metadata": {},
     "output_type": "execute_result"
    }
   ],
   "source": [
    "df_x_area.head()"
   ]
  },
  {
   "cell_type": "code",
   "execution_count": 25,
   "metadata": {
    "execution": {
     "iopub.execute_input": "2020-10-05T15:20:00.676146Z",
     "iopub.status.busy": "2020-10-05T15:20:00.675165Z",
     "iopub.status.idle": "2020-10-05T15:20:00.679867Z",
     "shell.execute_reply": "2020-10-05T15:20:00.679327Z"
    },
    "papermill": {
     "duration": 0.053545,
     "end_time": "2020-10-05T15:20:00.680005",
     "exception": false,
     "start_time": "2020-10-05T15:20:00.626460",
     "status": "completed"
    },
    "tags": []
   },
   "outputs": [
    {
     "data": {
      "text/html": [
       "<div>\n",
       "<style scoped>\n",
       "    .dataframe tbody tr th:only-of-type {\n",
       "        vertical-align: middle;\n",
       "    }\n",
       "\n",
       "    .dataframe tbody tr th {\n",
       "        vertical-align: top;\n",
       "    }\n",
       "\n",
       "    .dataframe thead th {\n",
       "        text-align: right;\n",
       "    }\n",
       "</style>\n",
       "<table border=\"1\" class=\"dataframe\">\n",
       "  <thead>\n",
       "    <tr style=\"text-align: right;\">\n",
       "      <th></th>\n",
       "      <th>Expenditure</th>\n",
       "      <th>% of Total Expenditure</th>\n",
       "      <th>No. of Transactions</th>\n",
       "      <th>% of Total Transactions</th>\n",
       "    </tr>\n",
       "    <tr>\n",
       "      <th>Supplier</th>\n",
       "      <th></th>\n",
       "      <th></th>\n",
       "      <th></th>\n",
       "      <th></th>\n",
       "    </tr>\n",
       "  </thead>\n",
       "  <tbody>\n",
       "    <tr>\n",
       "      <th>SALISBURY HEALTHCARE FACILITIES LTD</th>\n",
       "      <td>2.891839e+07</td>\n",
       "      <td>13.514630</td>\n",
       "      <td>129</td>\n",
       "      <td>0.016029</td>\n",
       "    </tr>\n",
       "    <tr>\n",
       "      <th>NHS LOGISTICS</th>\n",
       "      <td>2.005461e+07</td>\n",
       "      <td>9.372260</td>\n",
       "      <td>793496</td>\n",
       "      <td>98.595550</td>\n",
       "    </tr>\n",
       "    <tr>\n",
       "      <th>WILTSHIRE COUNCIL</th>\n",
       "      <td>9.253817e+06</td>\n",
       "      <td>4.324650</td>\n",
       "      <td>147</td>\n",
       "      <td>0.018265</td>\n",
       "    </tr>\n",
       "    <tr>\n",
       "      <th>CSC COMPUTER SCIENCES LTD</th>\n",
       "      <td>8.033669e+06</td>\n",
       "      <td>3.754430</td>\n",
       "      <td>83</td>\n",
       "      <td>0.010313</td>\n",
       "    </tr>\n",
       "    <tr>\n",
       "      <th>CORONA ENERGY</th>\n",
       "      <td>7.354617e+06</td>\n",
       "      <td>3.437084</td>\n",
       "      <td>239</td>\n",
       "      <td>0.029697</td>\n",
       "    </tr>\n",
       "  </tbody>\n",
       "</table>\n",
       "</div>"
      ],
      "text/plain": [
       "                                      Expenditure  % of Total Expenditure  \\\n",
       "Supplier                                                                    \n",
       "SALISBURY HEALTHCARE FACILITIES LTD  2.891839e+07               13.514630   \n",
       "NHS LOGISTICS                        2.005461e+07                9.372260   \n",
       "WILTSHIRE COUNCIL                    9.253817e+06                4.324650   \n",
       "CSC COMPUTER SCIENCES LTD            8.033669e+06                3.754430   \n",
       "CORONA ENERGY                        7.354617e+06                3.437084   \n",
       "\n",
       "                                     No. of Transactions  \\\n",
       "Supplier                                                   \n",
       "SALISBURY HEALTHCARE FACILITIES LTD                  129   \n",
       "NHS LOGISTICS                                     793496   \n",
       "WILTSHIRE COUNCIL                                    147   \n",
       "CSC COMPUTER SCIENCES LTD                             83   \n",
       "CORONA ENERGY                                        239   \n",
       "\n",
       "                                     % of Total Transactions  \n",
       "Supplier                                                      \n",
       "SALISBURY HEALTHCARE FACILITIES LTD                 0.016029  \n",
       "NHS LOGISTICS                                      98.595550  \n",
       "WILTSHIRE COUNCIL                                   0.018265  \n",
       "CSC COMPUTER SCIENCES LTD                           0.010313  \n",
       "CORONA ENERGY                                       0.029697  "
      ]
     },
     "execution_count": 25,
     "metadata": {},
     "output_type": "execute_result"
    }
   ],
   "source": [
    "df_supplier.head()"
   ]
  },
  {
   "cell_type": "markdown",
   "metadata": {
    "papermill": {
     "duration": 0.0372,
     "end_time": "2020-10-05T15:20:00.755048",
     "exception": false,
     "start_time": "2020-10-05T15:20:00.717848",
     "status": "completed"
    },
    "tags": []
   },
   "source": [
    "# Data Visualization"
   ]
  },
  {
   "cell_type": "code",
   "execution_count": 26,
   "metadata": {
    "execution": {
     "iopub.execute_input": "2020-10-05T15:20:00.839079Z",
     "iopub.status.busy": "2020-10-05T15:20:00.838341Z",
     "iopub.status.idle": "2020-10-05T15:20:01.400103Z",
     "shell.execute_reply": "2020-10-05T15:20:01.400652Z"
    },
    "papermill": {
     "duration": 0.608495,
     "end_time": "2020-10-05T15:20:01.400874",
     "exception": false,
     "start_time": "2020-10-05T15:20:00.792379",
     "status": "completed"
    },
    "tags": []
   },
   "outputs": [
    {
     "data": {
      "image/png": "[encoded data removed]",
      "text/plain": [
       "<Figure size 504x1080 with 3 Axes>"
      ]
     },
     "metadata": {
      "needs_background": "light"
     },
     "output_type": "display_data"
    }
   ],
   "source": [
    "fig, ax = plt.subplots(3, 1, figsize=(7,15))\n",
    "\n",
    "sns.scatterplot(x=df_x_type[\"% of Total Transactions\"], y=df_x_type[\"% of Total Expenditure\"], ax=ax[0])\n",
    "sns.scatterplot(x=df_x_area[\"% of Total Transactions\"], y=df_x_area[\"% of Total Expenditure\"], ax=ax[1])\n",
    "sns.scatterplot(x=df_supplier[\"% of Total Transactions\"], y=df_supplier[\"% of Total Expenditure\"], ax=ax[2])\n",
    "plt.show()"
   ]
  },
  {
   "cell_type": "code",
   "execution_count": 27,
   "metadata": {
    "execution": {
     "iopub.execute_input": "2020-10-05T15:20:01.500344Z",
     "iopub.status.busy": "2020-10-05T15:20:01.488178Z",
     "iopub.status.idle": "2020-10-05T15:20:01.960461Z",
     "shell.execute_reply": "2020-10-05T15:20:01.959730Z"
    },
    "papermill": {
     "duration": 0.520455,
     "end_time": "2020-10-05T15:20:01.960578",
     "exception": false,
     "start_time": "2020-10-05T15:20:01.440123",
     "status": "completed"
    },
    "tags": []
   },
   "outputs": [
    {
     "data": {
      "text/plain": [
       "<matplotlib.axes._subplots.AxesSubplot at 0x7fbfe95560d0>"
      ]
     },
     "execution_count": 27,
     "metadata": {},
     "output_type": "execute_result"
    },
    {
     "data": {
      "image/png": "[encoded data removed]",
      "text/plain": [
       "<Figure size 1080x1080 with 3 Axes>"
      ]
     },
     "metadata": {
      "needs_background": "light"
     },
     "output_type": "display_data"
    }
   ],
   "source": [
    "fig, ax = plt.subplots(3, 1, figsize=(15,15))\n",
    "\n",
    "sns.barplot(x=df_x_type.head().index, y=\"Expenditure\", data=df_x_type.head(), ax=ax[0])\n",
    "sns.barplot(x=df_x_area.head().index, y=\"Expenditure\", data=df_x_area.head(), ax=ax[1])\n",
    "sns.barplot(x=df_supplier.head().index, y=\"Expenditure\", data=df_supplier.head(), ax=ax[2])"
   ]
  },
  {
   "cell_type": "markdown",
   "metadata": {
    "papermill": {
     "duration": 0.040637,
     "end_time": "2020-10-05T15:20:02.042447",
     "exception": false,
     "start_time": "2020-10-05T15:20:02.001810",
     "status": "completed"
    },
    "tags": []
   },
   "source": [
    "# Save DataFrames"
   ]
  },
  {
   "cell_type": "code",
   "execution_count": 28,
   "metadata": {
    "execution": {
     "iopub.execute_input": "2020-10-05T15:20:02.132646Z",
     "iopub.status.busy": "2020-10-05T15:20:02.131840Z",
     "iopub.status.idle": "2020-10-05T15:20:15.393583Z",
     "shell.execute_reply": "2020-10-05T15:20:15.392930Z"
    },
    "papermill": {
     "duration": 13.310198,
     "end_time": "2020-10-05T15:20:15.393707",
     "exception": false,
     "start_time": "2020-10-05T15:20:02.083509",
     "status": "completed"
    },
    "tags": []
   },
   "outputs": [],
   "source": [
    "df.to_csv('all_data.csv', index=False)\n",
    "df_x_type.to_csv('numbers_by_expense_type.csv', index=False)\n",
    "df_x_area.to_csv('numbers_by_expense_area.csv', index=False)\n",
    "df_supplier.to_csv('numbers_by_supplier.csv', index=False)"
   ]
  },
  {
   "cell_type": "code",
   "execution_count": null,
   "metadata": {
    "papermill": {
     "duration": 0.040765,
     "end_time": "2020-10-05T15:20:15.476046",
     "exception": false,
     "start_time": "2020-10-05T15:20:15.435281",
     "status": "completed"
    },
    "tags": []
   },
   "outputs": [],
   "source": []
  }
 ],
 "metadata": {
  "kernelspec": {
   "display_name": "Python 3",
   "language": "python",
   "name": "python3"
  },
  "language_info": {
   "codemirror_mode": {
    "name": "ipython",
    "version": 3
   },
   "file_extension": ".py",
   "mimetype": "text/x-python",
   "name": "python",
   "nbconvert_exporter": "python",
   "pygments_lexer": "ipython3",
   "version": "3.7.6"
  },
  "papermill": {
   "duration": 32.185167,
   "end_time": "2020-10-05T15:20:15.626259",
   "environment_variables": {},
   "exception": null,
   "input_path": "__notebook__.ipynb",
   "output_path": "__notebook__.ipynb",
   "parameters": {},
   "start_time": "2020-10-05T15:19:43.441092",
   "version": "2.1.0"
  }
 },
 "nbformat": 4,
 "nbformat_minor": 4
}
