{
 "cells": [
  {
   "cell_type": "code",
   "execution_count": 1,
   "metadata": {
    "_cell_guid": "b1076dfc-b9ad-4769-8c92-a6c4dae69d19",
    "_uuid": "8f2839f25d086af736a60e9eeb907d3b93b6e0e5",
    "execution": {
     "iopub.execute_input": "2020-09-27T11:44:47.839495Z",
     "iopub.status.busy": "2020-09-27T11:44:47.838725Z",
     "iopub.status.idle": "2020-09-27T11:44:47.849287Z",
     "shell.execute_reply": "2020-09-27T11:44:47.848587Z"
    },
    "papermill": {
     "duration": 0.025087,
     "end_time": "2020-09-27T11:44:47.849418",
     "exception": false,
     "start_time": "2020-09-27T11:44:47.824331",
     "status": "completed"
    },
    "tags": []
   },
   "outputs": [
    {
     "name": "stdout",
     "output_type": "stream",
     "text": [
      "/kaggle/input/expenditure-by-salisbury-nhs-foundation-trust/expenditure.csv\n"
     ]
    }
   ],
   "source": [
    "# This Python 3 environment comes with many helpful analytics libraries installed\n",
    "# It is defined by the kaggle/python Docker image: https://github.com/kaggle/docker-python\n",
    "# For example, here's several helpful packages to load\n",
    "\n",
    "import numpy as np # linear algebra\n",
    "import pandas as pd # data processing, CSV file I/O (e.g. pd.read_csv)\n",
    "\n",
    "# Input data files are available in the read-only \"../input/\" directory\n",
    "# For example, running this (by clicking run or pressing Shift+Enter) will list all files under the input directory\n",
    "\n",
    "import os\n",
    "for dirname, _, filenames in os.walk('/kaggle/input'):\n",
    "    for filename in filenames:\n",
    "        print(os.path.join(dirname, filename))\n",
    "\n",
    "# You can write up to 5GB to the current directory (/kaggle/working/) that gets preserved as output when you create a version using \"Save & Run All\" \n",
    "# You can also write temporary files to /kaggle/temp/, but they won't be saved outside of the current session"
   ]
  },
  {
   "cell_type": "code",
   "execution_count": 2,
   "metadata": {
    "_cell_guid": "79c7e3d0-c299-4dcb-8224-4455121ee9b0",
    "_uuid": "d629ff2d2480ee46fbb7e2d37f6b5fab8052498a",
    "execution": {
     "iopub.execute_input": "2020-09-27T11:44:47.877165Z",
     "iopub.status.busy": "2020-09-27T11:44:47.876083Z",
     "iopub.status.idle": "2020-09-27T11:44:49.878450Z",
     "shell.execute_reply": "2020-09-27T11:44:49.877905Z"
    },
    "papermill": {
     "duration": 2.016966,
     "end_time": "2020-09-27T11:44:49.878567",
     "exception": false,
     "start_time": "2020-09-27T11:44:47.861601",
     "status": "completed"
    },
    "tags": []
   },
   "outputs": [
    {
     "name": "stderr",
     "output_type": "stream",
     "text": [
      "/opt/conda/lib/python3.7/site-packages/IPython/core/interactiveshell.py:3063: DtypeWarning: Columns (7,9,11) have mixed types.Specify dtype option on import or set low_memory=False.\n",
      "  interactivity=interactivity, compiler=compiler, result=result)\n"
     ]
    },
    {
     "data": {
      "text/html": [
       "<div>\n",
       "<style scoped>\n",
       "    .dataframe tbody tr th:only-of-type {\n",
       "        vertical-align: middle;\n",
       "    }\n",
       "\n",
       "    .dataframe tbody tr th {\n",
       "        vertical-align: top;\n",
       "    }\n",
       "\n",
       "    .dataframe thead th {\n",
       "        text-align: right;\n",
       "    }\n",
       "</style>\n",
       "<table border=\"1\" class=\"dataframe\">\n",
       "  <thead>\n",
       "    <tr style=\"text-align: right;\">\n",
       "      <th></th>\n",
       "      <th>Department Family</th>\n",
       "      <th>Entity</th>\n",
       "      <th>Date</th>\n",
       "      <th>Expense Type</th>\n",
       "      <th>Expense area</th>\n",
       "      <th>Supplier</th>\n",
       "      <th>Transaction Number</th>\n",
       "      <th>Amount</th>\n",
       "      <th>VAT registration Number</th>\n",
       "      <th>Amount</th>\n",
       "      <th>VAT Registration Number</th>\n",
       "      <th>Expense</th>\n",
       "      <th>VAT registration number</th>\n",
       "    </tr>\n",
       "  </thead>\n",
       "  <tbody>\n",
       "    <tr>\n",
       "      <th>0</th>\n",
       "      <td>Department of Health</td>\n",
       "      <td>Salisbury NHS Foundation Trust</td>\n",
       "      <td>2010-04-16</td>\n",
       "      <td>RATES</td>\n",
       "      <td>Facilities Directorate</td>\n",
       "      <td>WILTSHIRE COUNCIL</td>\n",
       "      <td>Apr-10</td>\n",
       "      <td>NaN</td>\n",
       "      <td>NaN</td>\n",
       "      <td>96071.17</td>\n",
       "      <td>NaN</td>\n",
       "      <td>NaN</td>\n",
       "      <td>NaN</td>\n",
       "    </tr>\n",
       "    <tr>\n",
       "      <th>1</th>\n",
       "      <td>Department of Health</td>\n",
       "      <td>Salisbury NHS Foundation Trust</td>\n",
       "      <td>2010-04-16</td>\n",
       "      <td>DRUGS</td>\n",
       "      <td>Clinical Support and Family Services</td>\n",
       "      <td>ROCHE PRODUCTS LTD</td>\n",
       "      <td>1321217701</td>\n",
       "      <td>NaN</td>\n",
       "      <td>NaN</td>\n",
       "      <td>25028.5</td>\n",
       "      <td>NaN</td>\n",
       "      <td>NaN</td>\n",
       "      <td>NaN</td>\n",
       "    </tr>\n",
       "    <tr>\n",
       "      <th>2</th>\n",
       "      <td>Department of Health</td>\n",
       "      <td>Salisbury NHS Foundation Trust</td>\n",
       "      <td>2010-04-16</td>\n",
       "      <td>DRUGS</td>\n",
       "      <td>Clinical Support and Family Services</td>\n",
       "      <td>ROCHE PRODUCTS LTD</td>\n",
       "      <td>1321217701</td>\n",
       "      <td>NaN</td>\n",
       "      <td>NaN</td>\n",
       "      <td>4379.99</td>\n",
       "      <td>NaN</td>\n",
       "      <td>NaN</td>\n",
       "      <td>NaN</td>\n",
       "    </tr>\n",
       "    <tr>\n",
       "      <th>3</th>\n",
       "      <td>Department of Health</td>\n",
       "      <td>Salisbury NHS Foundation Trust</td>\n",
       "      <td>2010-04-16</td>\n",
       "      <td>HEALTHCARE - NHS TRUSTS</td>\n",
       "      <td>Clinical Support and Family Services</td>\n",
       "      <td>ROYAL UNITED HOSPITAL BATH NHS TRUST</td>\n",
       "      <td>10291263</td>\n",
       "      <td>NaN</td>\n",
       "      <td>NaN</td>\n",
       "      <td>71642.5</td>\n",
       "      <td>NaN</td>\n",
       "      <td>NaN</td>\n",
       "      <td>NaN</td>\n",
       "    </tr>\n",
       "    <tr>\n",
       "      <th>4</th>\n",
       "      <td>Department of Health</td>\n",
       "      <td>Salisbury NHS Foundation Trust</td>\n",
       "      <td>2010-04-16</td>\n",
       "      <td>HEALTHCARE - NHS TRUSTS</td>\n",
       "      <td>Medicine</td>\n",
       "      <td>SOUTHAMPTON UNIV HOSPITAL NHS TRUST</td>\n",
       "      <td>7166068</td>\n",
       "      <td>NaN</td>\n",
       "      <td>NaN</td>\n",
       "      <td>26815.21</td>\n",
       "      <td>NaN</td>\n",
       "      <td>NaN</td>\n",
       "      <td>NaN</td>\n",
       "    </tr>\n",
       "  </tbody>\n",
       "</table>\n",
       "</div>"
      ],
      "text/plain": [
       "      Department Family                          Entity        Date  \\\n",
       "0  Department of Health  Salisbury NHS Foundation Trust  2010-04-16   \n",
       "1  Department of Health  Salisbury NHS Foundation Trust  2010-04-16   \n",
       "2  Department of Health  Salisbury NHS Foundation Trust  2010-04-16   \n",
       "3  Department of Health  Salisbury NHS Foundation Trust  2010-04-16   \n",
       "4  Department of Health  Salisbury NHS Foundation Trust  2010-04-16   \n",
       "\n",
       "              Expense Type                          Expense area  \\\n",
       "0                    RATES                Facilities Directorate   \n",
       "1                    DRUGS  Clinical Support and Family Services   \n",
       "2                    DRUGS  Clinical Support and Family Services   \n",
       "3  HEALTHCARE - NHS TRUSTS  Clinical Support and Family Services   \n",
       "4  HEALTHCARE - NHS TRUSTS                              Medicine   \n",
       "\n",
       "                               Supplier Transaction Number  Amount   \\\n",
       "0                     WILTSHIRE COUNCIL             Apr-10      NaN   \n",
       "1                    ROCHE PRODUCTS LTD         1321217701      NaN   \n",
       "2                    ROCHE PRODUCTS LTD         1321217701      NaN   \n",
       "3  ROYAL UNITED HOSPITAL BATH NHS TRUST           10291263      NaN   \n",
       "4   SOUTHAMPTON UNIV HOSPITAL NHS TRUST            7166068      NaN   \n",
       "\n",
       "   VAT registration Number    Amount  VAT Registration Number Expense  \\\n",
       "0                      NaN  96071.17                      NaN     NaN   \n",
       "1                      NaN   25028.5                      NaN     NaN   \n",
       "2                      NaN   4379.99                      NaN     NaN   \n",
       "3                      NaN   71642.5                      NaN     NaN   \n",
       "4                      NaN  26815.21                      NaN     NaN   \n",
       "\n",
       "   VAT registration number  \n",
       "0                      NaN  \n",
       "1                      NaN  \n",
       "2                      NaN  \n",
       "3                      NaN  \n",
       "4                      NaN  "
      ]
     },
     "execution_count": 2,
     "metadata": {},
     "output_type": "execute_result"
    }
   ],
   "source": [
    "df = pd.read_csv('../input/expenditure-by-salisbury-nhs-foundation-trust/expenditure.csv')\n",
    "df.head()"
   ]
  },
  {
   "cell_type": "markdown",
   "metadata": {
    "papermill": {
     "duration": 0.011803,
     "end_time": "2020-09-27T11:44:49.902325",
     "exception": false,
     "start_time": "2020-09-27T11:44:49.890522",
     "status": "completed"
    },
    "tags": []
   },
   "source": [
    "Let's use information from the Kaggle data explorer:\n",
    "\n",
    "The explorer tells us that the first amount column has 56.2k valid values and 749k missing. The second amount column has 735k valid values and 56.2k missing. Therefore, the first amount column contains all the missing values of the second amount column. The expense value contains the difference."
   ]
  },
  {
   "cell_type": "code",
   "execution_count": 3,
   "metadata": {
    "execution": {
     "iopub.execute_input": "2020-09-27T11:44:49.933008Z",
     "iopub.status.busy": "2020-09-27T11:44:49.931855Z",
     "iopub.status.idle": "2020-09-27T11:44:50.654543Z",
     "shell.execute_reply": "2020-09-27T11:44:50.653813Z"
    },
    "papermill": {
     "duration": 0.740338,
     "end_time": "2020-09-27T11:44:50.654795",
     "exception": false,
     "start_time": "2020-09-27T11:44:49.914457",
     "status": "completed"
    },
    "tags": []
   },
   "outputs": [
    {
     "data": {
      "text/plain": [
       "Department Family               0\n",
       "Entity                          0\n",
       "Date                            0\n",
       "Expense Type                 9707\n",
       "Expense area                   21\n",
       "Supplier                        0\n",
       "Transaction Number              0\n",
       " Amount                    748572\n",
       "VAT registration Number    804799\n",
       "Amount                      56227\n",
       "VAT Registration Number    804799\n",
       "Expense                    795092\n",
       "VAT registration number    804799\n",
       "dtype: int64"
      ]
     },
     "execution_count": 3,
     "metadata": {},
     "output_type": "execute_result"
    }
   ],
   "source": [
    "df.isna().sum()"
   ]
  },
  {
   "cell_type": "code",
   "execution_count": 4,
   "metadata": {
    "execution": {
     "iopub.execute_input": "2020-09-27T11:44:50.759435Z",
     "iopub.status.busy": "2020-09-27T11:44:50.724479Z",
     "iopub.status.idle": "2020-09-27T11:44:50.761886Z",
     "shell.execute_reply": "2020-09-27T11:44:50.762365Z"
    },
    "papermill": {
     "duration": 0.095506,
     "end_time": "2020-09-27T11:44:50.762513",
     "exception": false,
     "start_time": "2020-09-27T11:44:50.667007",
     "status": "completed"
    },
    "tags": []
   },
   "outputs": [],
   "source": [
    "# Drop all VAT registration numbers since they are all missing\n",
    "\n",
    "df.drop([\"VAT registration Number\", \"VAT Registration Number\", \"VAT registration number\"], axis=1, inplace=True)"
   ]
  },
  {
   "cell_type": "code",
   "execution_count": 5,
   "metadata": {
    "execution": {
     "iopub.execute_input": "2020-09-27T11:44:50.790396Z",
     "iopub.status.busy": "2020-09-27T11:44:50.789754Z",
     "iopub.status.idle": "2020-09-27T11:44:50.798503Z",
     "shell.execute_reply": "2020-09-27T11:44:50.797696Z"
    },
    "papermill": {
     "duration": 0.023815,
     "end_time": "2020-09-27T11:44:50.798661",
     "exception": false,
     "start_time": "2020-09-27T11:44:50.774846",
     "status": "completed"
    },
    "tags": []
   },
   "outputs": [
    {
     "name": "stdout",
     "output_type": "stream",
     "text": [
      "Adding the number of NaN values in the two Amount columns gives: 804799 . The total number of rows is 804799\n",
      "The number of NaN values in the Expense column is: 9707 .\n"
     ]
    }
   ],
   "source": [
    "print (\"Adding the number of NaN values in the two Amount columns gives:\", 748572 + 56227,\". The total number of rows is {}\".format(len(df)))\n",
    "print (\"The number of NaN values in the Expense column is:\", 804799 - 795092, \".\")"
   ]
  },
  {
   "cell_type": "markdown",
   "metadata": {
    "papermill": {
     "duration": 0.014129,
     "end_time": "2020-09-27T11:44:50.826602",
     "exception": false,
     "start_time": "2020-09-27T11:44:50.812473",
     "status": "completed"
    },
    "tags": []
   },
   "source": [
    "Therefore, we know that the two Amount columns should be merged and the Expense and Expense Type column should be merged."
   ]
  },
  {
   "cell_type": "code",
   "execution_count": 6,
   "metadata": {
    "execution": {
     "iopub.execute_input": "2020-09-27T11:44:50.859126Z",
     "iopub.status.busy": "2020-09-27T11:44:50.858186Z",
     "iopub.status.idle": "2020-09-27T11:44:50.861648Z",
     "shell.execute_reply": "2020-09-27T11:44:50.860937Z"
    },
    "papermill": {
     "duration": 0.022254,
     "end_time": "2020-09-27T11:44:50.861771",
     "exception": false,
     "start_time": "2020-09-27T11:44:50.839517",
     "status": "completed"
    },
    "tags": []
   },
   "outputs": [],
   "source": [
    "# Rename columns for clarity \n",
    "\n",
    "df.columns = [\"Department Family\", \"Entity\", \"Date\", \"Expense Type 1\", \"Expense Area\", \"Supplier\", \"Transaction Number\", \"Amount 1\", \"Amount 2\", \"Expense Type 2\"]"
   ]
  },
  {
   "cell_type": "code",
   "execution_count": 7,
   "metadata": {
    "execution": {
     "iopub.execute_input": "2020-09-27T11:44:50.891739Z",
     "iopub.status.busy": "2020-09-27T11:44:50.890754Z",
     "iopub.status.idle": "2020-09-27T11:44:50.908316Z",
     "shell.execute_reply": "2020-09-27T11:44:50.907689Z"
    },
    "papermill": {
     "duration": 0.033561,
     "end_time": "2020-09-27T11:44:50.908436",
     "exception": false,
     "start_time": "2020-09-27T11:44:50.874875",
     "status": "completed"
    },
    "tags": []
   },
   "outputs": [
    {
     "data": {
      "text/html": [
       "<div>\n",
       "<style scoped>\n",
       "    .dataframe tbody tr th:only-of-type {\n",
       "        vertical-align: middle;\n",
       "    }\n",
       "\n",
       "    .dataframe tbody tr th {\n",
       "        vertical-align: top;\n",
       "    }\n",
       "\n",
       "    .dataframe thead th {\n",
       "        text-align: right;\n",
       "    }\n",
       "</style>\n",
       "<table border=\"1\" class=\"dataframe\">\n",
       "  <thead>\n",
       "    <tr style=\"text-align: right;\">\n",
       "      <th></th>\n",
       "      <th>Department Family</th>\n",
       "      <th>Entity</th>\n",
       "      <th>Date</th>\n",
       "      <th>Expense Type 1</th>\n",
       "      <th>Expense Area</th>\n",
       "      <th>Supplier</th>\n",
       "      <th>Transaction Number</th>\n",
       "      <th>Amount 1</th>\n",
       "      <th>Amount 2</th>\n",
       "      <th>Expense Type 2</th>\n",
       "    </tr>\n",
       "  </thead>\n",
       "  <tbody>\n",
       "    <tr>\n",
       "      <th>0</th>\n",
       "      <td>Department of Health</td>\n",
       "      <td>Salisbury NHS Foundation Trust</td>\n",
       "      <td>2010-04-16</td>\n",
       "      <td>RATES</td>\n",
       "      <td>Facilities Directorate</td>\n",
       "      <td>WILTSHIRE COUNCIL</td>\n",
       "      <td>Apr-10</td>\n",
       "      <td>NaN</td>\n",
       "      <td>96071.17</td>\n",
       "      <td>NaN</td>\n",
       "    </tr>\n",
       "    <tr>\n",
       "      <th>1</th>\n",
       "      <td>Department of Health</td>\n",
       "      <td>Salisbury NHS Foundation Trust</td>\n",
       "      <td>2010-04-16</td>\n",
       "      <td>DRUGS</td>\n",
       "      <td>Clinical Support and Family Services</td>\n",
       "      <td>ROCHE PRODUCTS LTD</td>\n",
       "      <td>1321217701</td>\n",
       "      <td>NaN</td>\n",
       "      <td>25028.5</td>\n",
       "      <td>NaN</td>\n",
       "    </tr>\n",
       "    <tr>\n",
       "      <th>2</th>\n",
       "      <td>Department of Health</td>\n",
       "      <td>Salisbury NHS Foundation Trust</td>\n",
       "      <td>2010-04-16</td>\n",
       "      <td>DRUGS</td>\n",
       "      <td>Clinical Support and Family Services</td>\n",
       "      <td>ROCHE PRODUCTS LTD</td>\n",
       "      <td>1321217701</td>\n",
       "      <td>NaN</td>\n",
       "      <td>4379.99</td>\n",
       "      <td>NaN</td>\n",
       "    </tr>\n",
       "    <tr>\n",
       "      <th>3</th>\n",
       "      <td>Department of Health</td>\n",
       "      <td>Salisbury NHS Foundation Trust</td>\n",
       "      <td>2010-04-16</td>\n",
       "      <td>HEALTHCARE - NHS TRUSTS</td>\n",
       "      <td>Clinical Support and Family Services</td>\n",
       "      <td>ROYAL UNITED HOSPITAL BATH NHS TRUST</td>\n",
       "      <td>10291263</td>\n",
       "      <td>NaN</td>\n",
       "      <td>71642.5</td>\n",
       "      <td>NaN</td>\n",
       "    </tr>\n",
       "    <tr>\n",
       "      <th>4</th>\n",
       "      <td>Department of Health</td>\n",
       "      <td>Salisbury NHS Foundation Trust</td>\n",
       "      <td>2010-04-16</td>\n",
       "      <td>HEALTHCARE - NHS TRUSTS</td>\n",
       "      <td>Medicine</td>\n",
       "      <td>SOUTHAMPTON UNIV HOSPITAL NHS TRUST</td>\n",
       "      <td>7166068</td>\n",
       "      <td>NaN</td>\n",
       "      <td>26815.21</td>\n",
       "      <td>NaN</td>\n",
       "    </tr>\n",
       "  </tbody>\n",
       "</table>\n",
       "</div>"
      ],
      "text/plain": [
       "      Department Family                          Entity        Date  \\\n",
       "0  Department of Health  Salisbury NHS Foundation Trust  2010-04-16   \n",
       "1  Department of Health  Salisbury NHS Foundation Trust  2010-04-16   \n",
       "2  Department of Health  Salisbury NHS Foundation Trust  2010-04-16   \n",
       "3  Department of Health  Salisbury NHS Foundation Trust  2010-04-16   \n",
       "4  Department of Health  Salisbury NHS Foundation Trust  2010-04-16   \n",
       "\n",
       "            Expense Type 1                          Expense Area  \\\n",
       "0                    RATES                Facilities Directorate   \n",
       "1                    DRUGS  Clinical Support and Family Services   \n",
       "2                    DRUGS  Clinical Support and Family Services   \n",
       "3  HEALTHCARE - NHS TRUSTS  Clinical Support and Family Services   \n",
       "4  HEALTHCARE - NHS TRUSTS                              Medicine   \n",
       "\n",
       "                               Supplier Transaction Number Amount 1  Amount 2  \\\n",
       "0                     WILTSHIRE COUNCIL             Apr-10      NaN  96071.17   \n",
       "1                    ROCHE PRODUCTS LTD         1321217701      NaN   25028.5   \n",
       "2                    ROCHE PRODUCTS LTD         1321217701      NaN   4379.99   \n",
       "3  ROYAL UNITED HOSPITAL BATH NHS TRUST           10291263      NaN   71642.5   \n",
       "4   SOUTHAMPTON UNIV HOSPITAL NHS TRUST            7166068      NaN  26815.21   \n",
       "\n",
       "  Expense Type 2  \n",
       "0            NaN  \n",
       "1            NaN  \n",
       "2            NaN  \n",
       "3            NaN  \n",
       "4            NaN  "
      ]
     },
     "execution_count": 7,
     "metadata": {},
     "output_type": "execute_result"
    }
   ],
   "source": [
    "df.head()"
   ]
  },
  {
   "cell_type": "code",
   "execution_count": 8,
   "metadata": {
    "execution": {
     "iopub.execute_input": "2020-09-27T11:44:50.983766Z",
     "iopub.status.busy": "2020-09-27T11:44:50.982863Z",
     "iopub.status.idle": "2020-09-27T11:44:51.242034Z",
     "shell.execute_reply": "2020-09-27T11:44:51.242597Z"
    },
    "papermill": {
     "duration": 0.319453,
     "end_time": "2020-09-27T11:44:51.242745",
     "exception": false,
     "start_time": "2020-09-27T11:44:50.923292",
     "status": "completed"
    },
    "tags": []
   },
   "outputs": [
    {
     "name": "stdout",
     "output_type": "stream",
     "text": [
      "0\n",
      "0\n"
     ]
    }
   ],
   "source": [
    "df[\"Amount 1\"].fillna(df[\"Amount 2\"], inplace=True)\n",
    "df[\"Expense Type 1\"].fillna(df[\"Expense Type 2\"], inplace=True)\n",
    "\n",
    "# Check all Nan filled\n",
    "\n",
    "print (df[\"Amount 1\"].isna().sum())\n",
    "print (df[\"Expense Type 1\"].isna().sum())"
   ]
  },
  {
   "cell_type": "code",
   "execution_count": 9,
   "metadata": {
    "execution": {
     "iopub.execute_input": "2020-09-27T11:44:51.335584Z",
     "iopub.status.busy": "2020-09-27T11:44:51.278657Z",
     "iopub.status.idle": "2020-09-27T11:44:51.338028Z",
     "shell.execute_reply": "2020-09-27T11:44:51.338520Z"
    },
    "papermill": {
     "duration": 0.079877,
     "end_time": "2020-09-27T11:44:51.338681",
     "exception": false,
     "start_time": "2020-09-27T11:44:51.258804",
     "status": "completed"
    },
    "tags": []
   },
   "outputs": [],
   "source": [
    "# Drop unnecessary columns\n",
    "\n",
    "df.drop([\"Amount 2\", \"Expense Type 2\"], axis=1, inplace=True)"
   ]
  },
  {
   "cell_type": "code",
   "execution_count": 10,
   "metadata": {
    "execution": {
     "iopub.execute_input": "2020-09-27T11:44:51.371132Z",
     "iopub.status.busy": "2020-09-27T11:44:51.370406Z",
     "iopub.status.idle": "2020-09-27T11:44:51.385801Z",
     "shell.execute_reply": "2020-09-27T11:44:51.385255Z"
    },
    "papermill": {
     "duration": 0.032739,
     "end_time": "2020-09-27T11:44:51.385924",
     "exception": false,
     "start_time": "2020-09-27T11:44:51.353185",
     "status": "completed"
    },
    "tags": []
   },
   "outputs": [
    {
     "data": {
      "text/html": [
       "<div>\n",
       "<style scoped>\n",
       "    .dataframe tbody tr th:only-of-type {\n",
       "        vertical-align: middle;\n",
       "    }\n",
       "\n",
       "    .dataframe tbody tr th {\n",
       "        vertical-align: top;\n",
       "    }\n",
       "\n",
       "    .dataframe thead th {\n",
       "        text-align: right;\n",
       "    }\n",
       "</style>\n",
       "<table border=\"1\" class=\"dataframe\">\n",
       "  <thead>\n",
       "    <tr style=\"text-align: right;\">\n",
       "      <th></th>\n",
       "      <th>Department Family</th>\n",
       "      <th>Entity</th>\n",
       "      <th>Date</th>\n",
       "      <th>Expense Type 1</th>\n",
       "      <th>Expense Area</th>\n",
       "      <th>Supplier</th>\n",
       "      <th>Transaction Number</th>\n",
       "      <th>Amount 1</th>\n",
       "    </tr>\n",
       "  </thead>\n",
       "  <tbody>\n",
       "    <tr>\n",
       "      <th>0</th>\n",
       "      <td>Department of Health</td>\n",
       "      <td>Salisbury NHS Foundation Trust</td>\n",
       "      <td>2010-04-16</td>\n",
       "      <td>RATES</td>\n",
       "      <td>Facilities Directorate</td>\n",
       "      <td>WILTSHIRE COUNCIL</td>\n",
       "      <td>Apr-10</td>\n",
       "      <td>96071.17</td>\n",
       "    </tr>\n",
       "    <tr>\n",
       "      <th>1</th>\n",
       "      <td>Department of Health</td>\n",
       "      <td>Salisbury NHS Foundation Trust</td>\n",
       "      <td>2010-04-16</td>\n",
       "      <td>DRUGS</td>\n",
       "      <td>Clinical Support and Family Services</td>\n",
       "      <td>ROCHE PRODUCTS LTD</td>\n",
       "      <td>1321217701</td>\n",
       "      <td>25028.5</td>\n",
       "    </tr>\n",
       "    <tr>\n",
       "      <th>2</th>\n",
       "      <td>Department of Health</td>\n",
       "      <td>Salisbury NHS Foundation Trust</td>\n",
       "      <td>2010-04-16</td>\n",
       "      <td>DRUGS</td>\n",
       "      <td>Clinical Support and Family Services</td>\n",
       "      <td>ROCHE PRODUCTS LTD</td>\n",
       "      <td>1321217701</td>\n",
       "      <td>4379.99</td>\n",
       "    </tr>\n",
       "    <tr>\n",
       "      <th>3</th>\n",
       "      <td>Department of Health</td>\n",
       "      <td>Salisbury NHS Foundation Trust</td>\n",
       "      <td>2010-04-16</td>\n",
       "      <td>HEALTHCARE - NHS TRUSTS</td>\n",
       "      <td>Clinical Support and Family Services</td>\n",
       "      <td>ROYAL UNITED HOSPITAL BATH NHS TRUST</td>\n",
       "      <td>10291263</td>\n",
       "      <td>71642.5</td>\n",
       "    </tr>\n",
       "    <tr>\n",
       "      <th>4</th>\n",
       "      <td>Department of Health</td>\n",
       "      <td>Salisbury NHS Foundation Trust</td>\n",
       "      <td>2010-04-16</td>\n",
       "      <td>HEALTHCARE - NHS TRUSTS</td>\n",
       "      <td>Medicine</td>\n",
       "      <td>SOUTHAMPTON UNIV HOSPITAL NHS TRUST</td>\n",
       "      <td>7166068</td>\n",
       "      <td>26815.21</td>\n",
       "    </tr>\n",
       "  </tbody>\n",
       "</table>\n",
       "</div>"
      ],
      "text/plain": [
       "      Department Family                          Entity        Date  \\\n",
       "0  Department of Health  Salisbury NHS Foundation Trust  2010-04-16   \n",
       "1  Department of Health  Salisbury NHS Foundation Trust  2010-04-16   \n",
       "2  Department of Health  Salisbury NHS Foundation Trust  2010-04-16   \n",
       "3  Department of Health  Salisbury NHS Foundation Trust  2010-04-16   \n",
       "4  Department of Health  Salisbury NHS Foundation Trust  2010-04-16   \n",
       "\n",
       "            Expense Type 1                          Expense Area  \\\n",
       "0                    RATES                Facilities Directorate   \n",
       "1                    DRUGS  Clinical Support and Family Services   \n",
       "2                    DRUGS  Clinical Support and Family Services   \n",
       "3  HEALTHCARE - NHS TRUSTS  Clinical Support and Family Services   \n",
       "4  HEALTHCARE - NHS TRUSTS                              Medicine   \n",
       "\n",
       "                               Supplier Transaction Number  Amount 1  \n",
       "0                     WILTSHIRE COUNCIL             Apr-10  96071.17  \n",
       "1                    ROCHE PRODUCTS LTD         1321217701   25028.5  \n",
       "2                    ROCHE PRODUCTS LTD         1321217701   4379.99  \n",
       "3  ROYAL UNITED HOSPITAL BATH NHS TRUST           10291263   71642.5  \n",
       "4   SOUTHAMPTON UNIV HOSPITAL NHS TRUST            7166068  26815.21  "
      ]
     },
     "execution_count": 10,
     "metadata": {},
     "output_type": "execute_result"
    }
   ],
   "source": [
    "df.head()"
   ]
  },
  {
   "cell_type": "code",
   "execution_count": 11,
   "metadata": {
    "execution": {
     "iopub.execute_input": "2020-09-27T11:44:51.432511Z",
     "iopub.status.busy": "2020-09-27T11:44:51.431795Z",
     "iopub.status.idle": "2020-09-27T11:44:51.436434Z",
     "shell.execute_reply": "2020-09-27T11:44:51.435880Z"
    },
    "papermill": {
     "duration": 0.035426,
     "end_time": "2020-09-27T11:44:51.436559",
     "exception": false,
     "start_time": "2020-09-27T11:44:51.401133",
     "status": "completed"
    },
    "tags": []
   },
   "outputs": [
    {
     "data": {
      "text/html": [
       "<div>\n",
       "<style scoped>\n",
       "    .dataframe tbody tr th:only-of-type {\n",
       "        vertical-align: middle;\n",
       "    }\n",
       "\n",
       "    .dataframe tbody tr th {\n",
       "        vertical-align: top;\n",
       "    }\n",
       "\n",
       "    .dataframe thead th {\n",
       "        text-align: right;\n",
       "    }\n",
       "</style>\n",
       "<table border=\"1\" class=\"dataframe\">\n",
       "  <thead>\n",
       "    <tr style=\"text-align: right;\">\n",
       "      <th></th>\n",
       "      <th>Department Family</th>\n",
       "      <th>Entity</th>\n",
       "      <th>Date</th>\n",
       "      <th>Expense Type</th>\n",
       "      <th>Expense Area</th>\n",
       "      <th>Supplier</th>\n",
       "      <th>Transaction Number</th>\n",
       "      <th>Expenditure</th>\n",
       "    </tr>\n",
       "  </thead>\n",
       "  <tbody>\n",
       "    <tr>\n",
       "      <th>0</th>\n",
       "      <td>Department of Health</td>\n",
       "      <td>Salisbury NHS Foundation Trust</td>\n",
       "      <td>2010-04-16</td>\n",
       "      <td>RATES</td>\n",
       "      <td>Facilities Directorate</td>\n",
       "      <td>WILTSHIRE COUNCIL</td>\n",
       "      <td>Apr-10</td>\n",
       "      <td>96071.17</td>\n",
       "    </tr>\n",
       "    <tr>\n",
       "      <th>1</th>\n",
       "      <td>Department of Health</td>\n",
       "      <td>Salisbury NHS Foundation Trust</td>\n",
       "      <td>2010-04-16</td>\n",
       "      <td>DRUGS</td>\n",
       "      <td>Clinical Support and Family Services</td>\n",
       "      <td>ROCHE PRODUCTS LTD</td>\n",
       "      <td>1321217701</td>\n",
       "      <td>25028.5</td>\n",
       "    </tr>\n",
       "    <tr>\n",
       "      <th>2</th>\n",
       "      <td>Department of Health</td>\n",
       "      <td>Salisbury NHS Foundation Trust</td>\n",
       "      <td>2010-04-16</td>\n",
       "      <td>DRUGS</td>\n",
       "      <td>Clinical Support and Family Services</td>\n",
       "      <td>ROCHE PRODUCTS LTD</td>\n",
       "      <td>1321217701</td>\n",
       "      <td>4379.99</td>\n",
       "    </tr>\n",
       "    <tr>\n",
       "      <th>3</th>\n",
       "      <td>Department of Health</td>\n",
       "      <td>Salisbury NHS Foundation Trust</td>\n",
       "      <td>2010-04-16</td>\n",
       "      <td>HEALTHCARE - NHS TRUSTS</td>\n",
       "      <td>Clinical Support and Family Services</td>\n",
       "      <td>ROYAL UNITED HOSPITAL BATH NHS TRUST</td>\n",
       "      <td>10291263</td>\n",
       "      <td>71642.5</td>\n",
       "    </tr>\n",
       "    <tr>\n",
       "      <th>4</th>\n",
       "      <td>Department of Health</td>\n",
       "      <td>Salisbury NHS Foundation Trust</td>\n",
       "      <td>2010-04-16</td>\n",
       "      <td>HEALTHCARE - NHS TRUSTS</td>\n",
       "      <td>Medicine</td>\n",
       "      <td>SOUTHAMPTON UNIV HOSPITAL NHS TRUST</td>\n",
       "      <td>7166068</td>\n",
       "      <td>26815.21</td>\n",
       "    </tr>\n",
       "  </tbody>\n",
       "</table>\n",
       "</div>"
      ],
      "text/plain": [
       "      Department Family                          Entity        Date  \\\n",
       "0  Department of Health  Salisbury NHS Foundation Trust  2010-04-16   \n",
       "1  Department of Health  Salisbury NHS Foundation Trust  2010-04-16   \n",
       "2  Department of Health  Salisbury NHS Foundation Trust  2010-04-16   \n",
       "3  Department of Health  Salisbury NHS Foundation Trust  2010-04-16   \n",
       "4  Department of Health  Salisbury NHS Foundation Trust  2010-04-16   \n",
       "\n",
       "              Expense Type                          Expense Area  \\\n",
       "0                    RATES                Facilities Directorate   \n",
       "1                    DRUGS  Clinical Support and Family Services   \n",
       "2                    DRUGS  Clinical Support and Family Services   \n",
       "3  HEALTHCARE - NHS TRUSTS  Clinical Support and Family Services   \n",
       "4  HEALTHCARE - NHS TRUSTS                              Medicine   \n",
       "\n",
       "                               Supplier Transaction Number Expenditure  \n",
       "0                     WILTSHIRE COUNCIL             Apr-10    96071.17  \n",
       "1                    ROCHE PRODUCTS LTD         1321217701     25028.5  \n",
       "2                    ROCHE PRODUCTS LTD         1321217701     4379.99  \n",
       "3  ROYAL UNITED HOSPITAL BATH NHS TRUST           10291263     71642.5  \n",
       "4   SOUTHAMPTON UNIV HOSPITAL NHS TRUST            7166068    26815.21  "
      ]
     },
     "execution_count": 11,
     "metadata": {},
     "output_type": "execute_result"
    }
   ],
   "source": [
    "df.rename(columns={\"Expense Type 1\": \"Expense Type\", \"Amount 1\": \"Expenditure\"}, inplace=True)\n",
    "df.head()"
   ]
  },
  {
   "cell_type": "code",
   "execution_count": 12,
   "metadata": {
    "execution": {
     "iopub.execute_input": "2020-09-27T11:44:51.473406Z",
     "iopub.status.busy": "2020-09-27T11:44:51.472723Z",
     "iopub.status.idle": "2020-09-27T11:44:58.639887Z",
     "shell.execute_reply": "2020-09-27T11:44:58.640526Z"
    },
    "papermill": {
     "duration": 7.188211,
     "end_time": "2020-09-27T11:44:58.640697",
     "exception": false,
     "start_time": "2020-09-27T11:44:51.452486",
     "status": "completed"
    },
    "tags": []
   },
   "outputs": [],
   "source": [
    "df.to_csv('expenditure_v2.csv',index=False)"
   ]
  },
  {
   "cell_type": "code",
   "execution_count": null,
   "metadata": {
    "papermill": {
     "duration": 0.015782,
     "end_time": "2020-09-27T11:44:58.672735",
     "exception": false,
     "start_time": "2020-09-27T11:44:58.656953",
     "status": "completed"
    },
    "tags": []
   },
   "outputs": [],
   "source": []
  }
 ],
 "metadata": {
  "kernelspec": {
   "display_name": "Python 3",
   "language": "python",
   "name": "python3"
  },
  "language_info": {
   "codemirror_mode": {
    "name": "ipython",
    "version": 3
   },
   "file_extension": ".py",
   "mimetype": "text/x-python",
   "name": "python",
   "nbconvert_exporter": "python",
   "pygments_lexer": "ipython3",
   "version": "3.7.6"
  },
  "papermill": {
   "duration": 15.931661,
   "end_time": "2020-09-27T11:44:58.800096",
   "environment_variables": {},
   "exception": null,
   "input_path": "__notebook__.ipynb",
   "output_path": "__notebook__.ipynb",
   "parameters": {},
   "start_time": "2020-09-27T11:44:42.868435",
   "version": "2.1.0"
  }
 },
 "nbformat": 4,
 "nbformat_minor": 4
}
